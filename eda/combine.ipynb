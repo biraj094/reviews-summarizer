{
 "cells": [
  {
   "cell_type": "code",
   "execution_count": 1,
   "metadata": {},
   "outputs": [],
   "source": [
    "import pandas as pd\n",
    "import json"
   ]
  },
  {
   "cell_type": "code",
   "execution_count": 2,
   "metadata": {},
   "outputs": [],
   "source": [
    "cat_appliances = pd.read_csv('./data/Appliances/eda-appliances.csv')\n",
    "cat_magazine_subscription = pd.read_csv('./data/Magazine_Subscriptions/eda-magazine_subscription.csv')"
   ]
  },
  {
   "cell_type": "code",
   "execution_count": 3,
   "metadata": {},
   "outputs": [],
   "source": [
    "# Deserialize JSON strings back into Python objects\n",
    "cat_appliances['reviews'] = cat_appliances['reviews'].apply(json.loads)\n",
    "cat_appliances['helpful_votes'] = cat_appliances['helpful_votes'].apply(json.loads)\n",
    "cat_appliances['verified_purchase'] = cat_appliances['verified_purchase'].apply(json.loads)\n",
    "\n",
    "cat_magazine_subscription['reviews'] = cat_magazine_subscription['reviews'].apply(json.loads)\n",
    "cat_magazine_subscription['helpful_votes'] = cat_magazine_subscription['helpful_votes'].apply(json.loads)\n",
    "cat_magazine_subscription['verified_purchase'] = cat_magazine_subscription['verified_purchase'].apply(json.loads)\n",
    "\n"
   ]
  },
  {
   "cell_type": "code",
   "execution_count": 4,
   "metadata": {},
   "outputs": [
    {
     "data": {
      "text/plain": [
       "Index(['asin', 'reviews', 'total_reviews', 'first_review_date',\n",
       "       'last_review_date', 'helpful_votes', 'verified_purchase'],\n",
       "      dtype='object')"
      ]
     },
     "execution_count": 4,
     "metadata": {},
     "output_type": "execute_result"
    }
   ],
   "source": [
    "cat_appliances.columns"
   ]
  },
  {
   "cell_type": "code",
   "execution_count": 5,
   "metadata": {},
   "outputs": [
    {
     "data": {
      "text/plain": [
       "Index(['asin', 'reviews', 'total_reviews', 'first_review_date',\n",
       "       'last_review_date', 'helpful_votes', 'verified_purchase'],\n",
       "      dtype='object')"
      ]
     },
     "execution_count": 5,
     "metadata": {},
     "output_type": "execute_result"
    }
   ],
   "source": [
    "cat_magazine_subscription.columns"
   ]
  },
  {
   "cell_type": "code",
   "execution_count": 6,
   "metadata": {},
   "outputs": [],
   "source": [
    "# Add category columns\n",
    "cat_appliances['category'] = 1\n",
    "cat_magazine_subscription['category'] = 2\n",
    "\n",
    "# Combine the two DataFrames\n",
    "combined_df = pd.concat([cat_appliances, cat_magazine_subscription], ignore_index=True)\n",
    "assert(combined_df.shape[0]==cat_appliances.shape[0]+cat_magazine_subscription.shape[0])\n"
   ]
  },
  {
   "cell_type": "code",
   "execution_count": 7,
   "metadata": {},
   "outputs": [
    {
     "data": {
      "text/html": [
       "<div>\n",
       "<style scoped>\n",
       "    .dataframe tbody tr th:only-of-type {\n",
       "        vertical-align: middle;\n",
       "    }\n",
       "\n",
       "    .dataframe tbody tr th {\n",
       "        vertical-align: top;\n",
       "    }\n",
       "\n",
       "    .dataframe thead th {\n",
       "        text-align: right;\n",
       "    }\n",
       "</style>\n",
       "<table border=\"1\" class=\"dataframe\">\n",
       "  <thead>\n",
       "    <tr style=\"text-align: right;\">\n",
       "      <th></th>\n",
       "      <th>asin</th>\n",
       "      <th>reviews</th>\n",
       "      <th>total_reviews</th>\n",
       "      <th>first_review_date</th>\n",
       "      <th>last_review_date</th>\n",
       "      <th>helpful_votes</th>\n",
       "      <th>verified_purchase</th>\n",
       "      <th>category</th>\n",
       "    </tr>\n",
       "  </thead>\n",
       "  <tbody>\n",
       "    <tr>\n",
       "      <th>224</th>\n",
       "      <td>B00SPYDSFC</td>\n",
       "      <td>[{'review_title': 'Much better quality than th...</td>\n",
       "      <td>1194</td>\n",
       "      <td>2015-02-10 15:20:39.000</td>\n",
       "      <td>2022-08-15 14:42:17.505</td>\n",
       "      <td>[0, 0, 0, 0, 0, 0, 0, 0, 0, 0, 0, 0, 0, 0, 0, ...</td>\n",
       "      <td>[True, True, True, True, True, True, True, Tru...</td>\n",
       "      <td>1</td>\n",
       "    </tr>\n",
       "    <tr>\n",
       "      <th>361</th>\n",
       "      <td>B01N3QADS5</td>\n",
       "      <td>[{'review_title': 'Good', 'review_text': 'Prod...</td>\n",
       "      <td>952</td>\n",
       "      <td>2016-12-15 14:48:51.000</td>\n",
       "      <td>2023-08-21 10:21:41.801</td>\n",
       "      <td>[0, 0, 0, 0, 0, 0, 0, 0, 0, 0, 0, 0, 0, 0, 9, ...</td>\n",
       "      <td>[True, True, True, True, True, True, True, Tru...</td>\n",
       "      <td>1</td>\n",
       "    </tr>\n",
       "    <tr>\n",
       "      <th>22</th>\n",
       "      <td>B000DLB2FI</td>\n",
       "      <td>[{'review_title': 'My K-Cup and B40', 'review_...</td>\n",
       "      <td>5736</td>\n",
       "      <td>2006-02-28 01:34:13.000</td>\n",
       "      <td>2023-04-09 16:43:44.205</td>\n",
       "      <td>[7, 0, 0, 0, 0, 0, 3, 0, 1, 0, 2, 0, 0, 1, 0, ...</td>\n",
       "      <td>[False, True, True, True, True, True, True, Tr...</td>\n",
       "      <td>1</td>\n",
       "    </tr>\n",
       "    <tr>\n",
       "      <th>495</th>\n",
       "      <td>B07QC7JRDP</td>\n",
       "      <td>[{'review_title': 'Excellent!', 'review_text':...</td>\n",
       "      <td>2492</td>\n",
       "      <td>2019-04-28 22:57:39.585</td>\n",
       "      <td>2023-08-15 09:53:05.455</td>\n",
       "      <td>[0, 0, 0, 0, 0, 0, 0, 0, 0, 0, 0, 0, 0, 1, 1, ...</td>\n",
       "      <td>[True, True, True, True, True, True, True, Tru...</td>\n",
       "      <td>1</td>\n",
       "    </tr>\n",
       "    <tr>\n",
       "      <th>473</th>\n",
       "      <td>B07H9LHMR2</td>\n",
       "      <td>[{'review_title': 'great product', 'review_tex...</td>\n",
       "      <td>646</td>\n",
       "      <td>2018-11-20 00:10:47.096</td>\n",
       "      <td>2023-08-06 18:30:25.375</td>\n",
       "      <td>[0, 0, 0, 0, 0, 0, 0, 1, 0, 2, 0, 0, 0, 0, 0, ...</td>\n",
       "      <td>[True, True, True, True, True, True, True, Tru...</td>\n",
       "      <td>1</td>\n",
       "    </tr>\n",
       "    <tr>\n",
       "      <th>212</th>\n",
       "      <td>B00MVVITWC</td>\n",
       "      <td>[{'review_title': 'The right size.', 'review_t...</td>\n",
       "      <td>810</td>\n",
       "      <td>2015-03-02 21:17:30.000</td>\n",
       "      <td>2023-08-01 00:39:56.058</td>\n",
       "      <td>[0, 0, 593, 2, 0, 2, 59, 0, 0, 0, 9, 0, 15, 0,...</td>\n",
       "      <td>[True, True, True, True, True, True, True, Tru...</td>\n",
       "      <td>1</td>\n",
       "    </tr>\n",
       "    <tr>\n",
       "      <th>431</th>\n",
       "      <td>B079SNL9H6</td>\n",
       "      <td>[{'review_title': 'Fit perfectly', 'review_tex...</td>\n",
       "      <td>904</td>\n",
       "      <td>2018-10-08 19:40:31.645</td>\n",
       "      <td>2023-07-01 19:27:21.506</td>\n",
       "      <td>[0, 0, 0, 0, 0, 0, 0, 12, 0, 0, 0, 0, 0, 0, 0,...</td>\n",
       "      <td>[True, True, True, True, True, True, True, Tru...</td>\n",
       "      <td>1</td>\n",
       "    </tr>\n",
       "    <tr>\n",
       "      <th>520</th>\n",
       "      <td>B07VV2TRY9</td>\n",
       "      <td>[{'review_title': 'Hats need washing', 'review...</td>\n",
       "      <td>594</td>\n",
       "      <td>2019-10-10 11:16:36.225</td>\n",
       "      <td>2023-08-27 03:54:49.400</td>\n",
       "      <td>[0, 1, 0, 0, 0, 0, 0, 0, 0, 0, 0, 0, 0, 0, 0, ...</td>\n",
       "      <td>[True, True, True, True, True, True, True, Tru...</td>\n",
       "      <td>1</td>\n",
       "    </tr>\n",
       "    <tr>\n",
       "      <th>183</th>\n",
       "      <td>B00GPXASXK</td>\n",
       "      <td>[{'review_title': 'Arrived missing handle', 'r...</td>\n",
       "      <td>770</td>\n",
       "      <td>2014-01-27 05:24:43.000</td>\n",
       "      <td>2023-07-05 20:19:39.702</td>\n",
       "      <td>[0, 0, 0, 0, 0, 0, 0, 0, 0, 0, 0, 0, 0, 0, 0, ...</td>\n",
       "      <td>[True, True, True, True, True, True, True, Tru...</td>\n",
       "      <td>1</td>\n",
       "    </tr>\n",
       "    <tr>\n",
       "      <th>255</th>\n",
       "      <td>B00ZY70Y78</td>\n",
       "      <td>[{'review_title': 'Water filters', 'review_tex...</td>\n",
       "      <td>572</td>\n",
       "      <td>2015-09-20 22:45:55.000</td>\n",
       "      <td>2023-03-30 22:47:03.709</td>\n",
       "      <td>[0, 0, 0, 0, 0, 2, 0, 0, 0, 1, 0, 1, 0, 0, 0, ...</td>\n",
       "      <td>[True, True, True, True, True, True, True, Tru...</td>\n",
       "      <td>1</td>\n",
       "    </tr>\n",
       "  </tbody>\n",
       "</table>\n",
       "</div>"
      ],
      "text/plain": [
       "           asin                                            reviews  \\\n",
       "224  B00SPYDSFC  [{'review_title': 'Much better quality than th...   \n",
       "361  B01N3QADS5  [{'review_title': 'Good', 'review_text': 'Prod...   \n",
       "22   B000DLB2FI  [{'review_title': 'My K-Cup and B40', 'review_...   \n",
       "495  B07QC7JRDP  [{'review_title': 'Excellent!', 'review_text':...   \n",
       "473  B07H9LHMR2  [{'review_title': 'great product', 'review_tex...   \n",
       "212  B00MVVITWC  [{'review_title': 'The right size.', 'review_t...   \n",
       "431  B079SNL9H6  [{'review_title': 'Fit perfectly', 'review_tex...   \n",
       "520  B07VV2TRY9  [{'review_title': 'Hats need washing', 'review...   \n",
       "183  B00GPXASXK  [{'review_title': 'Arrived missing handle', 'r...   \n",
       "255  B00ZY70Y78  [{'review_title': 'Water filters', 'review_tex...   \n",
       "\n",
       "     total_reviews        first_review_date         last_review_date  \\\n",
       "224           1194  2015-02-10 15:20:39.000  2022-08-15 14:42:17.505   \n",
       "361            952  2016-12-15 14:48:51.000  2023-08-21 10:21:41.801   \n",
       "22            5736  2006-02-28 01:34:13.000  2023-04-09 16:43:44.205   \n",
       "495           2492  2019-04-28 22:57:39.585  2023-08-15 09:53:05.455   \n",
       "473            646  2018-11-20 00:10:47.096  2023-08-06 18:30:25.375   \n",
       "212            810  2015-03-02 21:17:30.000  2023-08-01 00:39:56.058   \n",
       "431            904  2018-10-08 19:40:31.645  2023-07-01 19:27:21.506   \n",
       "520            594  2019-10-10 11:16:36.225  2023-08-27 03:54:49.400   \n",
       "183            770  2014-01-27 05:24:43.000  2023-07-05 20:19:39.702   \n",
       "255            572  2015-09-20 22:45:55.000  2023-03-30 22:47:03.709   \n",
       "\n",
       "                                         helpful_votes  \\\n",
       "224  [0, 0, 0, 0, 0, 0, 0, 0, 0, 0, 0, 0, 0, 0, 0, ...   \n",
       "361  [0, 0, 0, 0, 0, 0, 0, 0, 0, 0, 0, 0, 0, 0, 9, ...   \n",
       "22   [7, 0, 0, 0, 0, 0, 3, 0, 1, 0, 2, 0, 0, 1, 0, ...   \n",
       "495  [0, 0, 0, 0, 0, 0, 0, 0, 0, 0, 0, 0, 0, 1, 1, ...   \n",
       "473  [0, 0, 0, 0, 0, 0, 0, 1, 0, 2, 0, 0, 0, 0, 0, ...   \n",
       "212  [0, 0, 593, 2, 0, 2, 59, 0, 0, 0, 9, 0, 15, 0,...   \n",
       "431  [0, 0, 0, 0, 0, 0, 0, 12, 0, 0, 0, 0, 0, 0, 0,...   \n",
       "520  [0, 1, 0, 0, 0, 0, 0, 0, 0, 0, 0, 0, 0, 0, 0, ...   \n",
       "183  [0, 0, 0, 0, 0, 0, 0, 0, 0, 0, 0, 0, 0, 0, 0, ...   \n",
       "255  [0, 0, 0, 0, 0, 2, 0, 0, 0, 1, 0, 1, 0, 0, 0, ...   \n",
       "\n",
       "                                     verified_purchase  category  \n",
       "224  [True, True, True, True, True, True, True, Tru...         1  \n",
       "361  [True, True, True, True, True, True, True, Tru...         1  \n",
       "22   [False, True, True, True, True, True, True, Tr...         1  \n",
       "495  [True, True, True, True, True, True, True, Tru...         1  \n",
       "473  [True, True, True, True, True, True, True, Tru...         1  \n",
       "212  [True, True, True, True, True, True, True, Tru...         1  \n",
       "431  [True, True, True, True, True, True, True, Tru...         1  \n",
       "520  [True, True, True, True, True, True, True, Tru...         1  \n",
       "183  [True, True, True, True, True, True, True, Tru...         1  \n",
       "255  [True, True, True, True, True, True, True, Tru...         1  "
      ]
     },
     "execution_count": 7,
     "metadata": {},
     "output_type": "execute_result"
    }
   ],
   "source": [
    "combined_df.sample(10)"
   ]
  },
  {
   "cell_type": "code",
   "execution_count": 8,
   "metadata": {},
   "outputs": [
    {
     "name": "stdout",
     "output_type": "stream",
     "text": [
      "Index(['asin', 'reviews', 'total_reviews', 'first_review_date',\n",
      "       'last_review_date', 'helpful_votes', 'verified_purchase', 'category'],\n",
      "      dtype='object')\n",
      "(591, 8)\n"
     ]
    }
   ],
   "source": [
    "print(combined_df.columns)\n",
    "print(combined_df.shape)"
   ]
  },
  {
   "cell_type": "code",
   "execution_count": 9,
   "metadata": {},
   "outputs": [],
   "source": [
    "combined_df['reviews'] = combined_df['reviews'].apply(json.dumps)\n",
    "combined_df['helpful_votes'] = combined_df['helpful_votes'].apply(json.dumps)\n",
    "combined_df['verified_purchase'] = combined_df['verified_purchase'].apply(json.dumps)\n"
   ]
  },
  {
   "cell_type": "code",
   "execution_count": 11,
   "metadata": {},
   "outputs": [],
   "source": [
    "combined_df.to_csv('./data/amazon-reviews-for-2-cats.csv', index=False)"
   ]
  },
  {
   "cell_type": "code",
   "execution_count": null,
   "metadata": {},
   "outputs": [],
   "source": []
  }
 ],
 "metadata": {
  "kernelspec": {
   "display_name": "env-reviews-summarizer",
   "language": "python",
   "name": "python3"
  },
  "language_info": {
   "codemirror_mode": {
    "name": "ipython",
    "version": 3
   },
   "file_extension": ".py",
   "mimetype": "text/x-python",
   "name": "python",
   "nbconvert_exporter": "python",
   "pygments_lexer": "ipython3",
   "version": "3.8.20"
  }
 },
 "nbformat": 4,
 "nbformat_minor": 2
}
