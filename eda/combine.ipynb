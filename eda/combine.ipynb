{
 "cells": [
  {
   "cell_type": "code",
   "execution_count": 1,
   "metadata": {},
   "outputs": [],
   "source": [
    "import pandas as pd\n",
    "import json"
   ]
  },
  {
   "cell_type": "code",
   "execution_count": 2,
   "metadata": {},
   "outputs": [],
   "source": [
    "cat_appliances = pd.read_csv('../data/Appliances/eda-appliances.csv')\n",
    "cat_magazine_subscription = pd.read_csv('../data/Magazine_Subscriptions/eda-magazine_subscription.csv')"
   ]
  },
  {
   "cell_type": "code",
   "execution_count": 3,
   "metadata": {},
   "outputs": [],
   "source": [
    "# Deserialize JSON strings back into Python objects\n",
    "cat_appliances['reviews'] = cat_appliances['reviews'].apply(json.loads)\n",
    "cat_appliances['helpful_votes'] = cat_appliances['helpful_votes'].apply(json.loads)\n",
    "cat_appliances['verified_purchase'] = cat_appliances['verified_purchase'].apply(json.loads)\n",
    "\n",
    "cat_magazine_subscription['reviews'] = cat_magazine_subscription['reviews'].apply(json.loads)\n",
    "cat_magazine_subscription['helpful_votes'] = cat_magazine_subscription['helpful_votes'].apply(json.loads)\n",
    "cat_magazine_subscription['verified_purchase'] = cat_magazine_subscription['verified_purchase'].apply(json.loads)\n",
    "\n"
   ]
  },
  {
   "cell_type": "code",
   "execution_count": 4,
   "metadata": {},
   "outputs": [
    {
     "data": {
      "text/plain": [
       "Index(['asin', 'reviews', 'total_reviews', 'first_review_date',\n",
       "       'last_review_date', 'helpful_votes', 'verified_purchase'],\n",
       "      dtype='object')"
      ]
     },
     "execution_count": 4,
     "metadata": {},
     "output_type": "execute_result"
    }
   ],
   "source": [
    "cat_appliances.columns"
   ]
  },
  {
   "cell_type": "code",
   "execution_count": 5,
   "metadata": {},
   "outputs": [
    {
     "data": {
      "text/plain": [
       "Index(['asin', 'reviews', 'total_reviews', 'first_review_date',\n",
       "       'last_review_date', 'helpful_votes', 'verified_purchase'],\n",
       "      dtype='object')"
      ]
     },
     "execution_count": 5,
     "metadata": {},
     "output_type": "execute_result"
    }
   ],
   "source": [
    "cat_magazine_subscription.columns"
   ]
  },
  {
   "cell_type": "code",
   "execution_count": 6,
   "metadata": {},
   "outputs": [],
   "source": [
    "# Add category columns\n",
    "cat_appliances['category'] = 1\n",
    "cat_magazine_subscription['category'] = 2\n",
    "\n",
    "# Combine the two DataFrames\n",
    "combined_df = pd.concat([cat_appliances, cat_magazine_subscription], ignore_index=True)\n",
    "assert(combined_df.shape[0]==cat_appliances.shape[0]+cat_magazine_subscription.shape[0])\n"
   ]
  },
  {
   "cell_type": "code",
   "execution_count": 7,
   "metadata": {},
   "outputs": [
    {
     "data": {
      "text/html": [
       "<div>\n",
       "<style scoped>\n",
       "    .dataframe tbody tr th:only-of-type {\n",
       "        vertical-align: middle;\n",
       "    }\n",
       "\n",
       "    .dataframe tbody tr th {\n",
       "        vertical-align: top;\n",
       "    }\n",
       "\n",
       "    .dataframe thead th {\n",
       "        text-align: right;\n",
       "    }\n",
       "</style>\n",
       "<table border=\"1\" class=\"dataframe\">\n",
       "  <thead>\n",
       "    <tr style=\"text-align: right;\">\n",
       "      <th></th>\n",
       "      <th>asin</th>\n",
       "      <th>reviews</th>\n",
       "      <th>total_reviews</th>\n",
       "      <th>first_review_date</th>\n",
       "      <th>last_review_date</th>\n",
       "      <th>helpful_votes</th>\n",
       "      <th>verified_purchase</th>\n",
       "      <th>category</th>\n",
       "    </tr>\n",
       "  </thead>\n",
       "  <tbody>\n",
       "    <tr>\n",
       "      <th>420</th>\n",
       "      <td>B078MMXJPC</td>\n",
       "      <td>[{'review_title': 'Impressed', 'review_text': ...</td>\n",
       "      <td>3279</td>\n",
       "      <td>2018-02-12 15:59:06.095</td>\n",
       "      <td>2023-08-25 19:13:21.280</td>\n",
       "      <td>[0, 0, 0, 0, 0, 0, 0, 0, 0, 0, 0, 0, 0, 0, 0, ...</td>\n",
       "      <td>[True, True, True, True, True, True, True, Tru...</td>\n",
       "      <td>1</td>\n",
       "    </tr>\n",
       "    <tr>\n",
       "      <th>306</th>\n",
       "      <td>B01CC83YC8</td>\n",
       "      <td>[{'review_title': 'Great Buy for Whirlpool WRX...</td>\n",
       "      <td>1046</td>\n",
       "      <td>2016-05-16 15:52:24.000</td>\n",
       "      <td>2023-09-02 06:30:27.686</td>\n",
       "      <td>[53, 0, 0, 0, 0, 1, 0, 0, 0, 0, 0, 0, 0, 0, 0,...</td>\n",
       "      <td>[True, True, True, True, True, True, True, Tru...</td>\n",
       "      <td>1</td>\n",
       "    </tr>\n",
       "    <tr>\n",
       "      <th>498</th>\n",
       "      <td>B07QJWX98P</td>\n",
       "      <td>[{'review_title': 'Works', 'review_text': 'Clo...</td>\n",
       "      <td>516</td>\n",
       "      <td>2019-10-23 09:51:04.686</td>\n",
       "      <td>2023-08-13 12:47:18.610</td>\n",
       "      <td>[0, 1, 3, 0, 3, 0, 0, 0, 0, 0, 0, 0, 0, 0, 0, ...</td>\n",
       "      <td>[True, True, True, True, True, True, True, Tru...</td>\n",
       "      <td>1</td>\n",
       "    </tr>\n",
       "    <tr>\n",
       "      <th>325</th>\n",
       "      <td>B01FZJXITU</td>\n",
       "      <td>[{'review_title': 'Five Stars', 'review_text':...</td>\n",
       "      <td>965</td>\n",
       "      <td>2016-08-01 02:13:25.000</td>\n",
       "      <td>2023-08-30 19:03:10.992</td>\n",
       "      <td>[0, 0, 0, 0, 0, 0, 0, 0, 0, 0, 0, 0, 0, 0, 0, ...</td>\n",
       "      <td>[True, True, True, True, True, True, True, Tru...</td>\n",
       "      <td>1</td>\n",
       "    </tr>\n",
       "    <tr>\n",
       "      <th>33</th>\n",
       "      <td>B000KBNTM0</td>\n",
       "      <td>[{'review_title': 'Nice tall coffee filter con...</td>\n",
       "      <td>639</td>\n",
       "      <td>2013-09-27 15:49:09.000</td>\n",
       "      <td>2023-07-27 12:30:25.332</td>\n",
       "      <td>[0, 1, 5, 0, 0, 0, 22, 0, 0, 0, 0, 0, 0, 0, 3,...</td>\n",
       "      <td>[True, True, True, True, True, True, True, Fal...</td>\n",
       "      <td>1</td>\n",
       "    </tr>\n",
       "    <tr>\n",
       "      <th>34</th>\n",
       "      <td>B000KI3O1O</td>\n",
       "      <td>[{'review_title': 'Best replacement for Sears ...</td>\n",
       "      <td>1076</td>\n",
       "      <td>2008-06-06 13:36:30.000</td>\n",
       "      <td>2022-10-02 18:09:11.865</td>\n",
       "      <td>[0, 1, 0, 0, 0, 0, 0, 0, 0, 0, 0, 0, 0, 0, 0, ...</td>\n",
       "      <td>[True, True, True, True, True, True, True, Tru...</td>\n",
       "      <td>1</td>\n",
       "    </tr>\n",
       "    <tr>\n",
       "      <th>348</th>\n",
       "      <td>B01KJ2FVFW</td>\n",
       "      <td>[{'review_title': 'They arrived in great. I wo...</td>\n",
       "      <td>6140</td>\n",
       "      <td>2016-09-25 16:03:56.000</td>\n",
       "      <td>2023-05-16 01:05:18.597</td>\n",
       "      <td>[0, 0, 0, 1, 0, 0, 0, 0, 0, 0, 0, 0, 0, 0, 0, ...</td>\n",
       "      <td>[True, True, True, True, True, True, True, Tru...</td>\n",
       "      <td>1</td>\n",
       "    </tr>\n",
       "    <tr>\n",
       "      <th>411</th>\n",
       "      <td>B076KFDDCM</td>\n",
       "      <td>[{'review_title': 'B for this item', 'review_t...</td>\n",
       "      <td>646</td>\n",
       "      <td>2018-03-14 23:46:30.224</td>\n",
       "      <td>2023-04-28 06:31:55.021</td>\n",
       "      <td>[0, 0, 16, 0, 0, 0, 0, 0, 0, 0, 0, 0, 0, 0, 0,...</td>\n",
       "      <td>[True, True, True, True, True, True, True, Tru...</td>\n",
       "      <td>1</td>\n",
       "    </tr>\n",
       "    <tr>\n",
       "      <th>344</th>\n",
       "      <td>B01J0I0UKW</td>\n",
       "      <td>[{'review_title': 'Clearest water to drink', '...</td>\n",
       "      <td>1263</td>\n",
       "      <td>2016-10-13 20:58:30.000</td>\n",
       "      <td>2023-06-02 05:41:57.942</td>\n",
       "      <td>[0, 0, 0, 0, 6, 0, 0, 0, 0, 0, 0, 0, 0, 0, 0, ...</td>\n",
       "      <td>[True, True, True, True, True, True, True, Tru...</td>\n",
       "      <td>1</td>\n",
       "    </tr>\n",
       "    <tr>\n",
       "      <th>287</th>\n",
       "      <td>B01AVGCPN2</td>\n",
       "      <td>[{'review_title': 'Great for apartment living'...</td>\n",
       "      <td>525</td>\n",
       "      <td>2016-02-01 23:35:39.000</td>\n",
       "      <td>2022-12-08 07:18:05.794</td>\n",
       "      <td>[0, 0, 1, 0, 10, 0, 1, 0, 0, 0, 0, 0, 1, 0, 0,...</td>\n",
       "      <td>[True, True, True, True, True, True, True, Tru...</td>\n",
       "      <td>1</td>\n",
       "    </tr>\n",
       "  </tbody>\n",
       "</table>\n",
       "</div>"
      ],
      "text/plain": [
       "           asin                                            reviews  \\\n",
       "420  B078MMXJPC  [{'review_title': 'Impressed', 'review_text': ...   \n",
       "306  B01CC83YC8  [{'review_title': 'Great Buy for Whirlpool WRX...   \n",
       "498  B07QJWX98P  [{'review_title': 'Works', 'review_text': 'Clo...   \n",
       "325  B01FZJXITU  [{'review_title': 'Five Stars', 'review_text':...   \n",
       "33   B000KBNTM0  [{'review_title': 'Nice tall coffee filter con...   \n",
       "34   B000KI3O1O  [{'review_title': 'Best replacement for Sears ...   \n",
       "348  B01KJ2FVFW  [{'review_title': 'They arrived in great. I wo...   \n",
       "411  B076KFDDCM  [{'review_title': 'B for this item', 'review_t...   \n",
       "344  B01J0I0UKW  [{'review_title': 'Clearest water to drink', '...   \n",
       "287  B01AVGCPN2  [{'review_title': 'Great for apartment living'...   \n",
       "\n",
       "     total_reviews        first_review_date         last_review_date  \\\n",
       "420           3279  2018-02-12 15:59:06.095  2023-08-25 19:13:21.280   \n",
       "306           1046  2016-05-16 15:52:24.000  2023-09-02 06:30:27.686   \n",
       "498            516  2019-10-23 09:51:04.686  2023-08-13 12:47:18.610   \n",
       "325            965  2016-08-01 02:13:25.000  2023-08-30 19:03:10.992   \n",
       "33             639  2013-09-27 15:49:09.000  2023-07-27 12:30:25.332   \n",
       "34            1076  2008-06-06 13:36:30.000  2022-10-02 18:09:11.865   \n",
       "348           6140  2016-09-25 16:03:56.000  2023-05-16 01:05:18.597   \n",
       "411            646  2018-03-14 23:46:30.224  2023-04-28 06:31:55.021   \n",
       "344           1263  2016-10-13 20:58:30.000  2023-06-02 05:41:57.942   \n",
       "287            525  2016-02-01 23:35:39.000  2022-12-08 07:18:05.794   \n",
       "\n",
       "                                         helpful_votes  \\\n",
       "420  [0, 0, 0, 0, 0, 0, 0, 0, 0, 0, 0, 0, 0, 0, 0, ...   \n",
       "306  [53, 0, 0, 0, 0, 1, 0, 0, 0, 0, 0, 0, 0, 0, 0,...   \n",
       "498  [0, 1, 3, 0, 3, 0, 0, 0, 0, 0, 0, 0, 0, 0, 0, ...   \n",
       "325  [0, 0, 0, 0, 0, 0, 0, 0, 0, 0, 0, 0, 0, 0, 0, ...   \n",
       "33   [0, 1, 5, 0, 0, 0, 22, 0, 0, 0, 0, 0, 0, 0, 3,...   \n",
       "34   [0, 1, 0, 0, 0, 0, 0, 0, 0, 0, 0, 0, 0, 0, 0, ...   \n",
       "348  [0, 0, 0, 1, 0, 0, 0, 0, 0, 0, 0, 0, 0, 0, 0, ...   \n",
       "411  [0, 0, 16, 0, 0, 0, 0, 0, 0, 0, 0, 0, 0, 0, 0,...   \n",
       "344  [0, 0, 0, 0, 6, 0, 0, 0, 0, 0, 0, 0, 0, 0, 0, ...   \n",
       "287  [0, 0, 1, 0, 10, 0, 1, 0, 0, 0, 0, 0, 1, 0, 0,...   \n",
       "\n",
       "                                     verified_purchase  category  \n",
       "420  [True, True, True, True, True, True, True, Tru...         1  \n",
       "306  [True, True, True, True, True, True, True, Tru...         1  \n",
       "498  [True, True, True, True, True, True, True, Tru...         1  \n",
       "325  [True, True, True, True, True, True, True, Tru...         1  \n",
       "33   [True, True, True, True, True, True, True, Fal...         1  \n",
       "34   [True, True, True, True, True, True, True, Tru...         1  \n",
       "348  [True, True, True, True, True, True, True, Tru...         1  \n",
       "411  [True, True, True, True, True, True, True, Tru...         1  \n",
       "344  [True, True, True, True, True, True, True, Tru...         1  \n",
       "287  [True, True, True, True, True, True, True, Tru...         1  "
      ]
     },
     "execution_count": 7,
     "metadata": {},
     "output_type": "execute_result"
    }
   ],
   "source": [
    "combined_df.sample(10)"
   ]
  },
  {
   "cell_type": "code",
   "execution_count": 8,
   "metadata": {},
   "outputs": [
    {
     "name": "stdout",
     "output_type": "stream",
     "text": [
      "Index(['asin', 'reviews', 'total_reviews', 'first_review_date',\n",
      "       'last_review_date', 'helpful_votes', 'verified_purchase', 'category'],\n",
      "      dtype='object')\n",
      "(591, 8)\n"
     ]
    }
   ],
   "source": [
    "print(combined_df.columns)\n",
    "print(combined_df.shape)"
   ]
  },
  {
   "cell_type": "code",
   "execution_count": 9,
   "metadata": {},
   "outputs": [],
   "source": [
    "combined_df['reviews'] = combined_df['reviews'].apply(json.dumps)\n",
    "combined_df['helpful_votes'] = combined_df['helpful_votes'].apply(json.dumps)\n",
    "combined_df['verified_purchase'] = combined_df['verified_purchase'].apply(json.dumps)\n"
   ]
  },
  {
   "cell_type": "code",
   "execution_count": 10,
   "metadata": {},
   "outputs": [],
   "source": [
    "# combined_df.to_csv('../data/amazon-reviews-for-2-cats.csv', index=False)"
   ]
  },
  {
   "cell_type": "code",
   "execution_count": null,
   "metadata": {},
   "outputs": [],
   "source": []
  }
 ],
 "metadata": {
  "kernelspec": {
   "display_name": "env-reviews-summarizer",
   "language": "python",
   "name": "python3"
  },
  "language_info": {
   "codemirror_mode": {
    "name": "ipython",
    "version": 3
   },
   "file_extension": ".py",
   "mimetype": "text/x-python",
   "name": "python",
   "nbconvert_exporter": "python",
   "pygments_lexer": "ipython3",
   "version": "3.8.20"
  }
 },
 "nbformat": 4,
 "nbformat_minor": 2
}
