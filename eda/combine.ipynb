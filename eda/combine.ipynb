{
 "cells": [
  {
   "cell_type": "code",
   "execution_count": 33,
   "metadata": {},
   "outputs": [],
   "source": [
    "import pandas as pd\n",
    "import json"
   ]
  },
  {
   "cell_type": "code",
   "execution_count": 34,
   "metadata": {},
   "outputs": [],
   "source": [
    "cat_appliances = pd.read_csv('../data/Appliances/eda-appliances.csv')\n",
    "cat_magazine_subscription = pd.read_csv('../data/Magazine_Subscriptions/eda-magazine_subscription.csv')"
   ]
  },
  {
   "cell_type": "code",
   "execution_count": 35,
   "metadata": {},
   "outputs": [],
   "source": [
    "# Deserialize JSON strings back into Python objects\n",
    "cat_appliances['reviews'] = cat_appliances['reviews'].apply(json.loads)\n",
    "cat_appliances['helpful_votes'] = cat_appliances['helpful_votes'].apply(json.loads)\n",
    "cat_appliances['verified_purchase'] = cat_appliances['verified_purchase'].apply(json.loads)\n",
    "\n",
    "cat_magazine_subscription['reviews'] = cat_magazine_subscription['reviews'].apply(json.loads)\n",
    "cat_magazine_subscription['helpful_votes'] = cat_magazine_subscription['helpful_votes'].apply(json.loads)\n",
    "cat_magazine_subscription['verified_purchase'] = cat_magazine_subscription['verified_purchase'].apply(json.loads)\n",
    "\n"
   ]
  },
  {
   "cell_type": "code",
   "execution_count": 36,
   "metadata": {},
   "outputs": [
    {
     "data": {
      "text/plain": [
       "Index(['asin', 'reviews', 'total_reviews', 'first_review_date',\n",
       "       'last_review_date', 'helpful_votes', 'verified_purchase'],\n",
       "      dtype='object')"
      ]
     },
     "execution_count": 36,
     "metadata": {},
     "output_type": "execute_result"
    }
   ],
   "source": [
    "cat_appliances.columns"
   ]
  },
  {
   "cell_type": "code",
   "execution_count": 37,
   "metadata": {},
   "outputs": [
    {
     "data": {
      "text/plain": [
       "Index(['asin', 'reviews', 'total_reviews', 'first_review_date',\n",
       "       'last_review_date', 'helpful_votes', 'verified_purchase'],\n",
       "      dtype='object')"
      ]
     },
     "execution_count": 37,
     "metadata": {},
     "output_type": "execute_result"
    }
   ],
   "source": [
    "cat_magazine_subscription.columns"
   ]
  },
  {
   "cell_type": "code",
   "execution_count": 38,
   "metadata": {},
   "outputs": [],
   "source": [
    "# Add category columns\n",
    "cat_appliances['category'] = 1\n",
    "cat_magazine_subscription['category'] = 2\n",
    "\n",
    "# Combine the two DataFrames\n",
    "combined_df = pd.concat([cat_appliances, cat_magazine_subscription], ignore_index=True)\n",
    "assert(combined_df.shape[0]==cat_appliances.shape[0]+cat_magazine_subscription.shape[0])\n"
   ]
  },
  {
   "cell_type": "code",
   "execution_count": 39,
   "metadata": {},
   "outputs": [
    {
     "data": {
      "text/html": [
       "<div>\n",
       "<style scoped>\n",
       "    .dataframe tbody tr th:only-of-type {\n",
       "        vertical-align: middle;\n",
       "    }\n",
       "\n",
       "    .dataframe tbody tr th {\n",
       "        vertical-align: top;\n",
       "    }\n",
       "\n",
       "    .dataframe thead th {\n",
       "        text-align: right;\n",
       "    }\n",
       "</style>\n",
       "<table border=\"1\" class=\"dataframe\">\n",
       "  <thead>\n",
       "    <tr style=\"text-align: right;\">\n",
       "      <th></th>\n",
       "      <th>asin</th>\n",
       "      <th>reviews</th>\n",
       "      <th>total_reviews</th>\n",
       "      <th>first_review_date</th>\n",
       "      <th>last_review_date</th>\n",
       "      <th>helpful_votes</th>\n",
       "      <th>verified_purchase</th>\n",
       "      <th>category</th>\n",
       "    </tr>\n",
       "  </thead>\n",
       "  <tbody>\n",
       "    <tr>\n",
       "      <th>230</th>\n",
       "      <td>B00UB441HS</td>\n",
       "      <td>[{'review_title': 'Ok', 'review_text': 'Ok'}, ...</td>\n",
       "      <td>3400</td>\n",
       "      <td>2015-04-24 11:36:05.000</td>\n",
       "      <td>2023-09-07 18:42:31.409</td>\n",
       "      <td>[0, 1, 1, 0, 0, 0, 0, 0, 1, 0, 0, 0, 1, 0, 0, ...</td>\n",
       "      <td>[True, True, True, True, True, True, False, Tr...</td>\n",
       "      <td>1</td>\n",
       "    </tr>\n",
       "    <tr>\n",
       "      <th>266</th>\n",
       "      <td>B013WDXNYQ</td>\n",
       "      <td>[{'review_title': 'Works perfectly', 'review_t...</td>\n",
       "      <td>631</td>\n",
       "      <td>2015-12-27 05:08:52.000</td>\n",
       "      <td>2023-05-24 17:42:17.699</td>\n",
       "      <td>[1, 0, 0, 0, 0, 0, 7, 0, 0, 0, 1, 0, 0, 0, 0, ...</td>\n",
       "      <td>[True, True, True, True, False, True, True, Tr...</td>\n",
       "      <td>1</td>\n",
       "    </tr>\n",
       "    <tr>\n",
       "      <th>545</th>\n",
       "      <td>B086W7Z52D</td>\n",
       "      <td>[{'review_title': 'I can get ice when ever I w...</td>\n",
       "      <td>1191</td>\n",
       "      <td>2020-04-21 14:04:19.298</td>\n",
       "      <td>2023-08-25 21:30:51.146</td>\n",
       "      <td>[0, 0, 0, 0, 0, 1, 0, 0, 0, 0, 0, 0, 0, 0, 0, ...</td>\n",
       "      <td>[True, True, True, True, True, True, True, Tru...</td>\n",
       "      <td>1</td>\n",
       "    </tr>\n",
       "    <tr>\n",
       "      <th>522</th>\n",
       "      <td>B07WX16Z34</td>\n",
       "      <td>[{'review_title': 'Quality', 'review_text': 'E...</td>\n",
       "      <td>1472</td>\n",
       "      <td>2019-12-08 21:40:39.335</td>\n",
       "      <td>2023-08-27 19:36:00.208</td>\n",
       "      <td>[0, 0, 0, 0, 0, 0, 0, 0, 4, 0, 0, 0, 0, 0, 0, ...</td>\n",
       "      <td>[True, True, True, True, True, True, True, Tru...</td>\n",
       "      <td>1</td>\n",
       "    </tr>\n",
       "    <tr>\n",
       "      <th>479</th>\n",
       "      <td>B07JK1HM6P</td>\n",
       "      <td>[{'review_title': 'Saved a Bundle! No repairma...</td>\n",
       "      <td>1302</td>\n",
       "      <td>2019-05-29 01:22:29.277</td>\n",
       "      <td>2023-08-07 05:10:43.359</td>\n",
       "      <td>[0, 0, 0, 0, 0, 0, 0, 0, 0, 0, 0, 0, 0, 0, 0, ...</td>\n",
       "      <td>[True, True, True, True, True, True, True, Tru...</td>\n",
       "      <td>1</td>\n",
       "    </tr>\n",
       "    <tr>\n",
       "      <th>152</th>\n",
       "      <td>B00AUDAEMQ</td>\n",
       "      <td>[{'review_title': 'Great product', 'review_tex...</td>\n",
       "      <td>594</td>\n",
       "      <td>2013-10-03 02:49:01.000</td>\n",
       "      <td>2023-06-19 21:59:04.916</td>\n",
       "      <td>[0, 0, 0, 0, 0, 0, 0, 0, 0, 0, 0, 0, 0, 0, 0, ...</td>\n",
       "      <td>[True, True, True, True, True, True, True, Tru...</td>\n",
       "      <td>1</td>\n",
       "    </tr>\n",
       "    <tr>\n",
       "      <th>445</th>\n",
       "      <td>B07CHZZ436</td>\n",
       "      <td>[{'review_title': 'Perfect fit for our GE oven...</td>\n",
       "      <td>647</td>\n",
       "      <td>2018-06-12 23:04:35.837</td>\n",
       "      <td>2023-08-09 18:28:13.849</td>\n",
       "      <td>[0, 0, 0, 0, 0, 0, 0, 0, 0, 0, 0, 0, 0, 1, 0, ...</td>\n",
       "      <td>[True, True, True, True, True, True, True, Tru...</td>\n",
       "      <td>1</td>\n",
       "    </tr>\n",
       "    <tr>\n",
       "      <th>73</th>\n",
       "      <td>B002LKPWL4</td>\n",
       "      <td>[{'review_title': 'Yeah, they're filters.', 'r...</td>\n",
       "      <td>691</td>\n",
       "      <td>2009-10-22 19:46:47.000</td>\n",
       "      <td>2023-04-06 19:45:01.785</td>\n",
       "      <td>[1, 0, 0, 0, 0, 3, 0, 0, 0, 6, 2, 1, 0, 10, 0,...</td>\n",
       "      <td>[True, True, True, True, True, True, True, Tru...</td>\n",
       "      <td>1</td>\n",
       "    </tr>\n",
       "    <tr>\n",
       "      <th>325</th>\n",
       "      <td>B01FZJXITU</td>\n",
       "      <td>[{'review_title': 'Five Stars', 'review_text':...</td>\n",
       "      <td>965</td>\n",
       "      <td>2016-08-01 02:13:25.000</td>\n",
       "      <td>2023-08-30 19:03:10.992</td>\n",
       "      <td>[0, 0, 0, 0, 0, 0, 0, 0, 0, 0, 0, 0, 0, 0, 0, ...</td>\n",
       "      <td>[True, True, True, True, True, True, True, Tru...</td>\n",
       "      <td>1</td>\n",
       "    </tr>\n",
       "    <tr>\n",
       "      <th>218</th>\n",
       "      <td>B00PACUZPS</td>\n",
       "      <td>[{'review_title': 'Plastic hinge holding the l...</td>\n",
       "      <td>873</td>\n",
       "      <td>2016-05-18 00:32:46.000</td>\n",
       "      <td>2023-03-16 18:15:39.973</td>\n",
       "      <td>[0, 0, 0, 0, 0, 0, 0, 6, 0, 0, 0, 0, 0, 0, 1, ...</td>\n",
       "      <td>[True, True, True, True, True, True, True, Tru...</td>\n",
       "      <td>1</td>\n",
       "    </tr>\n",
       "  </tbody>\n",
       "</table>\n",
       "</div>"
      ],
      "text/plain": [
       "           asin                                            reviews  \\\n",
       "230  B00UB441HS  [{'review_title': 'Ok', 'review_text': 'Ok'}, ...   \n",
       "266  B013WDXNYQ  [{'review_title': 'Works perfectly', 'review_t...   \n",
       "545  B086W7Z52D  [{'review_title': 'I can get ice when ever I w...   \n",
       "522  B07WX16Z34  [{'review_title': 'Quality', 'review_text': 'E...   \n",
       "479  B07JK1HM6P  [{'review_title': 'Saved a Bundle! No repairma...   \n",
       "152  B00AUDAEMQ  [{'review_title': 'Great product', 'review_tex...   \n",
       "445  B07CHZZ436  [{'review_title': 'Perfect fit for our GE oven...   \n",
       "73   B002LKPWL4  [{'review_title': 'Yeah, they're filters.', 'r...   \n",
       "325  B01FZJXITU  [{'review_title': 'Five Stars', 'review_text':...   \n",
       "218  B00PACUZPS  [{'review_title': 'Plastic hinge holding the l...   \n",
       "\n",
       "     total_reviews        first_review_date         last_review_date  \\\n",
       "230           3400  2015-04-24 11:36:05.000  2023-09-07 18:42:31.409   \n",
       "266            631  2015-12-27 05:08:52.000  2023-05-24 17:42:17.699   \n",
       "545           1191  2020-04-21 14:04:19.298  2023-08-25 21:30:51.146   \n",
       "522           1472  2019-12-08 21:40:39.335  2023-08-27 19:36:00.208   \n",
       "479           1302  2019-05-29 01:22:29.277  2023-08-07 05:10:43.359   \n",
       "152            594  2013-10-03 02:49:01.000  2023-06-19 21:59:04.916   \n",
       "445            647  2018-06-12 23:04:35.837  2023-08-09 18:28:13.849   \n",
       "73             691  2009-10-22 19:46:47.000  2023-04-06 19:45:01.785   \n",
       "325            965  2016-08-01 02:13:25.000  2023-08-30 19:03:10.992   \n",
       "218            873  2016-05-18 00:32:46.000  2023-03-16 18:15:39.973   \n",
       "\n",
       "                                         helpful_votes  \\\n",
       "230  [0, 1, 1, 0, 0, 0, 0, 0, 1, 0, 0, 0, 1, 0, 0, ...   \n",
       "266  [1, 0, 0, 0, 0, 0, 7, 0, 0, 0, 1, 0, 0, 0, 0, ...   \n",
       "545  [0, 0, 0, 0, 0, 1, 0, 0, 0, 0, 0, 0, 0, 0, 0, ...   \n",
       "522  [0, 0, 0, 0, 0, 0, 0, 0, 4, 0, 0, 0, 0, 0, 0, ...   \n",
       "479  [0, 0, 0, 0, 0, 0, 0, 0, 0, 0, 0, 0, 0, 0, 0, ...   \n",
       "152  [0, 0, 0, 0, 0, 0, 0, 0, 0, 0, 0, 0, 0, 0, 0, ...   \n",
       "445  [0, 0, 0, 0, 0, 0, 0, 0, 0, 0, 0, 0, 0, 1, 0, ...   \n",
       "73   [1, 0, 0, 0, 0, 3, 0, 0, 0, 6, 2, 1, 0, 10, 0,...   \n",
       "325  [0, 0, 0, 0, 0, 0, 0, 0, 0, 0, 0, 0, 0, 0, 0, ...   \n",
       "218  [0, 0, 0, 0, 0, 0, 0, 6, 0, 0, 0, 0, 0, 0, 1, ...   \n",
       "\n",
       "                                     verified_purchase  category  \n",
       "230  [True, True, True, True, True, True, False, Tr...         1  \n",
       "266  [True, True, True, True, False, True, True, Tr...         1  \n",
       "545  [True, True, True, True, True, True, True, Tru...         1  \n",
       "522  [True, True, True, True, True, True, True, Tru...         1  \n",
       "479  [True, True, True, True, True, True, True, Tru...         1  \n",
       "152  [True, True, True, True, True, True, True, Tru...         1  \n",
       "445  [True, True, True, True, True, True, True, Tru...         1  \n",
       "73   [True, True, True, True, True, True, True, Tru...         1  \n",
       "325  [True, True, True, True, True, True, True, Tru...         1  \n",
       "218  [True, True, True, True, True, True, True, Tru...         1  "
      ]
     },
     "execution_count": 39,
     "metadata": {},
     "output_type": "execute_result"
    }
   ],
   "source": [
    "combined_df.sample(10)"
   ]
  },
  {
   "cell_type": "code",
   "execution_count": 40,
   "metadata": {},
   "outputs": [
    {
     "name": "stdout",
     "output_type": "stream",
     "text": [
      "Index(['asin', 'reviews', 'total_reviews', 'first_review_date',\n",
      "       'last_review_date', 'helpful_votes', 'verified_purchase', 'category'],\n",
      "      dtype='object')\n",
      "(591, 8)\n"
     ]
    }
   ],
   "source": [
    "print(combined_df.columns)\n",
    "print(combined_df.shape)"
   ]
  },
  {
   "cell_type": "code",
   "execution_count": 41,
   "metadata": {},
   "outputs": [],
   "source": [
    "# combined_df.to_csv('../data/amazon-reviews-for-2-cats.csv', index=False)"
   ]
  },
  {
   "cell_type": "code",
   "execution_count": null,
   "metadata": {},
   "outputs": [],
   "source": []
  }
 ],
 "metadata": {
  "kernelspec": {
   "display_name": "env-reviews-summarizer",
   "language": "python",
   "name": "python3"
  },
  "language_info": {
   "codemirror_mode": {
    "name": "ipython",
    "version": 3
   },
   "file_extension": ".py",
   "mimetype": "text/x-python",
   "name": "python",
   "nbconvert_exporter": "python",
   "pygments_lexer": "ipython3",
   "version": "3.8.20"
  }
 },
 "nbformat": 4,
 "nbformat_minor": 2
}
