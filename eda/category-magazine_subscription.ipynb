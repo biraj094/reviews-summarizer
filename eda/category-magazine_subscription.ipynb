{
 "cells": [
  {
   "cell_type": "markdown",
   "metadata": {},
   "source": [
    "# Category > Magazine Subcription"
   ]
  },
  {
   "cell_type": "markdown",
   "metadata": {},
   "source": [
    "# \n"
   ]
  },
  {
   "cell_type": "code",
   "execution_count": 32,
   "metadata": {},
   "outputs": [],
   "source": [
    "# ! pip install pandas --quiet\n",
    "# ! pip install matplotlib --quiet"
   ]
  },
  {
   "cell_type": "code",
   "execution_count": 33,
   "metadata": {},
   "outputs": [],
   "source": [
    "import pandas as pd\n",
    "import matplotlib.pyplot as plt\n",
    "import json"
   ]
  },
  {
   "cell_type": "code",
   "execution_count": 34,
   "metadata": {},
   "outputs": [],
   "source": [
    "adf = pd.read_json('../data/Magazine_Subscriptions/Magazine_Subscriptions.jsonl',lines=True)"
   ]
  },
  {
   "cell_type": "code",
   "execution_count": 35,
   "metadata": {},
   "outputs": [
    {
     "data": {
      "text/plain": [
       "(71497, 10)"
      ]
     },
     "execution_count": 35,
     "metadata": {},
     "output_type": "execute_result"
    }
   ],
   "source": [
    "adf.shape"
   ]
  },
  {
   "cell_type": "code",
   "execution_count": 36,
   "metadata": {},
   "outputs": [
    {
     "data": {
      "text/html": [
       "<div>\n",
       "<style scoped>\n",
       "    .dataframe tbody tr th:only-of-type {\n",
       "        vertical-align: middle;\n",
       "    }\n",
       "\n",
       "    .dataframe tbody tr th {\n",
       "        vertical-align: top;\n",
       "    }\n",
       "\n",
       "    .dataframe thead th {\n",
       "        text-align: right;\n",
       "    }\n",
       "</style>\n",
       "<table border=\"1\" class=\"dataframe\">\n",
       "  <thead>\n",
       "    <tr style=\"text-align: right;\">\n",
       "      <th></th>\n",
       "      <th>rating</th>\n",
       "      <th>title</th>\n",
       "      <th>text</th>\n",
       "      <th>images</th>\n",
       "      <th>asin</th>\n",
       "      <th>parent_asin</th>\n",
       "      <th>user_id</th>\n",
       "      <th>timestamp</th>\n",
       "      <th>helpful_vote</th>\n",
       "      <th>verified_purchase</th>\n",
       "    </tr>\n",
       "  </thead>\n",
       "  <tbody>\n",
       "    <tr>\n",
       "      <th>0</th>\n",
       "      <td>5</td>\n",
       "      <td>Great pictures and recipes</td>\n",
       "      <td>Wonderful recipes in this magazine.</td>\n",
       "      <td>[]</td>\n",
       "      <td>B00HLSSQKK</td>\n",
       "      <td>B00HLSSQKK</td>\n",
       "      <td>AE7Y5RLYIKHOZB5NKKOEKYG2SPSQ</td>\n",
       "      <td>2020-12-15 15:29:02.433</td>\n",
       "      <td>0</td>\n",
       "      <td>True</td>\n",
       "    </tr>\n",
       "    <tr>\n",
       "      <th>1</th>\n",
       "      <td>4</td>\n",
       "      <td>great for kids who love sports!</td>\n",
       "      <td>Great sports magazine that's on my 9 year olds...</td>\n",
       "      <td>[]</td>\n",
       "      <td>B002PXW04Y</td>\n",
       "      <td>B002PXW04Y</td>\n",
       "      <td>AHORTSSMI6ZZFUFWMPT4UFR2ISUQ</td>\n",
       "      <td>2016-08-12 03:28:32.000</td>\n",
       "      <td>1</td>\n",
       "      <td>True</td>\n",
       "    </tr>\n",
       "    <tr>\n",
       "      <th>2</th>\n",
       "      <td>5</td>\n",
       "      <td>A great look at what's new on the kosher scene...</td>\n",
       "      <td>\"Joy of Kosher\" magazine fills a much-needed n...</td>\n",
       "      <td>[]</td>\n",
       "      <td>B00HCR5090</td>\n",
       "      <td>B00HCR5090</td>\n",
       "      <td>AFW2PDT3AMT4X3PYQG7FJZH5FXFA</td>\n",
       "      <td>2014-04-06 23:32:53.000</td>\n",
       "      <td>4</td>\n",
       "      <td>False</td>\n",
       "    </tr>\n",
       "    <tr>\n",
       "      <th>3</th>\n",
       "      <td>5</td>\n",
       "      <td>If you enjoy reading an eye-catching, easy-to-...</td>\n",
       "      <td>I've been addicted to Martha Stewart's Everyda...</td>\n",
       "      <td>[]</td>\n",
       "      <td>B0000ARXXS</td>\n",
       "      <td>B0000ARXXS</td>\n",
       "      <td>AFW2PDT3AMT4X3PYQG7FJZH5FXFA</td>\n",
       "      <td>2007-06-15 04:04:15.000</td>\n",
       "      <td>4</td>\n",
       "      <td>False</td>\n",
       "    </tr>\n",
       "    <tr>\n",
       "      <th>4</th>\n",
       "      <td>1</td>\n",
       "      <td>Too many “ gear ads” !!</td>\n",
       "      <td>Too many ads!</td>\n",
       "      <td>[]</td>\n",
       "      <td>B0025ZOVEO</td>\n",
       "      <td>B0025ZOVEO</td>\n",
       "      <td>AFUB7CHTXRPD447QVQCHBZVN2IPQ</td>\n",
       "      <td>2020-06-01 21:24:40.246</td>\n",
       "      <td>13</td>\n",
       "      <td>True</td>\n",
       "    </tr>\n",
       "  </tbody>\n",
       "</table>\n",
       "</div>"
      ],
      "text/plain": [
       "   rating                                              title  \\\n",
       "0       5                         Great pictures and recipes   \n",
       "1       4                    great for kids who love sports!   \n",
       "2       5  A great look at what's new on the kosher scene...   \n",
       "3       5  If you enjoy reading an eye-catching, easy-to-...   \n",
       "4       1                            Too many “ gear ads” !!   \n",
       "\n",
       "                                                text images        asin  \\\n",
       "0                Wonderful recipes in this magazine.     []  B00HLSSQKK   \n",
       "1  Great sports magazine that's on my 9 year olds...     []  B002PXW04Y   \n",
       "2  \"Joy of Kosher\" magazine fills a much-needed n...     []  B00HCR5090   \n",
       "3  I've been addicted to Martha Stewart's Everyda...     []  B0000ARXXS   \n",
       "4                                      Too many ads!     []  B0025ZOVEO   \n",
       "\n",
       "  parent_asin                       user_id               timestamp  \\\n",
       "0  B00HLSSQKK  AE7Y5RLYIKHOZB5NKKOEKYG2SPSQ 2020-12-15 15:29:02.433   \n",
       "1  B002PXW04Y  AHORTSSMI6ZZFUFWMPT4UFR2ISUQ 2016-08-12 03:28:32.000   \n",
       "2  B00HCR5090  AFW2PDT3AMT4X3PYQG7FJZH5FXFA 2014-04-06 23:32:53.000   \n",
       "3  B0000ARXXS  AFW2PDT3AMT4X3PYQG7FJZH5FXFA 2007-06-15 04:04:15.000   \n",
       "4  B0025ZOVEO  AFUB7CHTXRPD447QVQCHBZVN2IPQ 2020-06-01 21:24:40.246   \n",
       "\n",
       "   helpful_vote  verified_purchase  \n",
       "0             0               True  \n",
       "1             1               True  \n",
       "2             4              False  \n",
       "3             4              False  \n",
       "4            13               True  "
      ]
     },
     "execution_count": 36,
     "metadata": {},
     "output_type": "execute_result"
    }
   ],
   "source": [
    "adf.head()"
   ]
  },
  {
   "cell_type": "code",
   "execution_count": 37,
   "metadata": {},
   "outputs": [
    {
     "name": "stdout",
     "output_type": "stream",
     "text": [
      "Mean =  21.084340902388675\n",
      "Median =  4.0\n"
     ]
    },
    {
     "data": {
      "image/png": "[encoded data removed]",
      "text/plain": [
       "<Figure size 720x432 with 1 Axes>"
      ]
     },
     "metadata": {
      "needs_background": "light"
     },
     "output_type": "display_data"
    }
   ],
   "source": [
    "value_counts = adf['asin'].value_counts()\n",
    "print(\"Mean = \",value_counts.mean())\n",
    "print(\"Median = \",value_counts.median())\n",
    "plt.figure(figsize=(10, 6))\n",
    "plt.bar(range(len(value_counts)), value_counts, color='skyblue', edgecolor='black')\n",
    "plt.title('Distribution of ASIN', fontsize=14)\n",
    "plt.xlabel('Unique ASINs (Index)', fontsize=12)\n",
    "plt.ylabel('Frequency', fontsize=12)\n",
    "plt.tight_layout()\n",
    "plt.show()"
   ]
  },
  {
   "cell_type": "markdown",
   "metadata": {},
   "source": [
    "**Filter products with more than 500 reviews**"
   ]
  },
  {
   "cell_type": "code",
   "execution_count": 38,
   "metadata": {},
   "outputs": [
    {
     "data": {
      "text/html": [
       "<div>\n",
       "<style scoped>\n",
       "    .dataframe tbody tr th:only-of-type {\n",
       "        vertical-align: middle;\n",
       "    }\n",
       "\n",
       "    .dataframe tbody tr th {\n",
       "        vertical-align: top;\n",
       "    }\n",
       "\n",
       "    .dataframe thead th {\n",
       "        text-align: right;\n",
       "    }\n",
       "</style>\n",
       "<table border=\"1\" class=\"dataframe\">\n",
       "  <thead>\n",
       "    <tr style=\"text-align: right;\">\n",
       "      <th></th>\n",
       "      <th>rating</th>\n",
       "      <th>title</th>\n",
       "      <th>text</th>\n",
       "      <th>images</th>\n",
       "      <th>asin</th>\n",
       "      <th>parent_asin</th>\n",
       "      <th>user_id</th>\n",
       "      <th>timestamp</th>\n",
       "      <th>helpful_vote</th>\n",
       "      <th>verified_purchase</th>\n",
       "    </tr>\n",
       "  </thead>\n",
       "  <tbody>\n",
       "    <tr>\n",
       "      <th>14</th>\n",
       "      <td>5</td>\n",
       "      <td>Five Stars</td>\n",
       "      <td>AAA+++</td>\n",
       "      <td>[]</td>\n",
       "      <td>B002PXVYEQ</td>\n",
       "      <td>B002PXVYEQ</td>\n",
       "      <td>AHWAIBCVNSK4HAJFE5DNRP636L2A</td>\n",
       "      <td>2016-02-18 23:26:28.000</td>\n",
       "      <td>0</td>\n",
       "      <td>True</td>\n",
       "    </tr>\n",
       "    <tr>\n",
       "      <th>18</th>\n",
       "      <td>2</td>\n",
       "      <td>Some Decent Content, but drowned out in Advert...</td>\n",
       "      <td>We were looking for a magazine for our 4 year ...</td>\n",
       "      <td>[]</td>\n",
       "      <td>B000063XJL</td>\n",
       "      <td>B000063XJL</td>\n",
       "      <td>AGLQQCIS5V6EGUCS5SSNHWZHQM6Q</td>\n",
       "      <td>2005-09-20 02:39:18.000</td>\n",
       "      <td>69</td>\n",
       "      <td>False</td>\n",
       "    </tr>\n",
       "    <tr>\n",
       "      <th>22</th>\n",
       "      <td>5</td>\n",
       "      <td>A terrific value</td>\n",
       "      <td>There is something in each edition of the maga...</td>\n",
       "      <td>[]</td>\n",
       "      <td>B0032KHQTS</td>\n",
       "      <td>B0032KHQTS</td>\n",
       "      <td>AEKAQ5SHLEIE44SA3WXLLKD4RJVA</td>\n",
       "      <td>2020-11-11 21:20:04.446</td>\n",
       "      <td>0</td>\n",
       "      <td>True</td>\n",
       "    </tr>\n",
       "    <tr>\n",
       "      <th>26</th>\n",
       "      <td>4</td>\n",
       "      <td>Classic</td>\n",
       "      <td>A timeless classic.</td>\n",
       "      <td>[]</td>\n",
       "      <td>B004GVZUUY</td>\n",
       "      <td>B004GVZUUY</td>\n",
       "      <td>AFE454TBPJXVP55M6STLR6R5664A</td>\n",
       "      <td>2021-06-06 20:11:22.043</td>\n",
       "      <td>0</td>\n",
       "      <td>True</td>\n",
       "    </tr>\n",
       "    <tr>\n",
       "      <th>54</th>\n",
       "      <td>2</td>\n",
       "      <td>National Geographic Kids: Too Much Fluff, too ...</td>\n",
       "      <td>Kids like to read magazines and books as long ...</td>\n",
       "      <td>[]</td>\n",
       "      <td>B000063XJL</td>\n",
       "      <td>B000063XJL</td>\n",
       "      <td>AFERCDY2EFJKT7QUQ75GISNHTFOQ</td>\n",
       "      <td>2012-05-06 14:48:55.000</td>\n",
       "      <td>8</td>\n",
       "      <td>False</td>\n",
       "    </tr>\n",
       "  </tbody>\n",
       "</table>\n",
       "</div>"
      ],
      "text/plain": [
       "    rating                                              title  \\\n",
       "14       5                                         Five Stars   \n",
       "18       2  Some Decent Content, but drowned out in Advert...   \n",
       "22       5                                   A terrific value   \n",
       "26       4                                            Classic   \n",
       "54       2  National Geographic Kids: Too Much Fluff, too ...   \n",
       "\n",
       "                                                 text images        asin  \\\n",
       "14                                             AAA+++     []  B002PXVYEQ   \n",
       "18  We were looking for a magazine for our 4 year ...     []  B000063XJL   \n",
       "22  There is something in each edition of the maga...     []  B0032KHQTS   \n",
       "26                                A timeless classic.     []  B004GVZUUY   \n",
       "54  Kids like to read magazines and books as long ...     []  B000063XJL   \n",
       "\n",
       "   parent_asin                       user_id               timestamp  \\\n",
       "14  B002PXVYEQ  AHWAIBCVNSK4HAJFE5DNRP636L2A 2016-02-18 23:26:28.000   \n",
       "18  B000063XJL  AGLQQCIS5V6EGUCS5SSNHWZHQM6Q 2005-09-20 02:39:18.000   \n",
       "22  B0032KHQTS  AEKAQ5SHLEIE44SA3WXLLKD4RJVA 2020-11-11 21:20:04.446   \n",
       "26  B004GVZUUY  AFE454TBPJXVP55M6STLR6R5664A 2021-06-06 20:11:22.043   \n",
       "54  B000063XJL  AFERCDY2EFJKT7QUQ75GISNHTFOQ 2012-05-06 14:48:55.000   \n",
       "\n",
       "    helpful_vote  verified_purchase  \n",
       "14             0               True  \n",
       "18            69              False  \n",
       "22             0               True  \n",
       "26             0               True  \n",
       "54             8              False  "
      ]
     },
     "execution_count": 38,
     "metadata": {},
     "output_type": "execute_result"
    }
   ],
   "source": [
    "filtered_asins = value_counts[value_counts >= 500].index\n",
    "filtered_adf = adf[adf['asin'].isin(filtered_asins)]\n",
    "filtered_adf.head()"
   ]
  },
  {
   "cell_type": "code",
   "execution_count": 39,
   "metadata": {},
   "outputs": [],
   "source": [
    "# Group by 'asin' and apply transformations\n",
    "result = filtered_adf.groupby('asin').apply(\n",
    "    lambda group: pd.Series({\n",
    "        'reviews': [{'review_title': title, 'review_text': text} for title, text in zip(group['title'], group['text'])],\n",
    "        'total_reviews': len(group),\n",
    "        'first_review_date': group['timestamp'].min(),\n",
    "        'last_review_date': group['timestamp'].max(),\n",
    "        'helpful_votes': group['helpful_vote'].tolist(),\n",
    "        'verified_purchase': group['verified_purchase'].tolist()\n",
    "    })\n",
    ").reset_index()\n",
    "\n",
    "# Serialize complex data types to JSON strings for saving in CSV\n",
    "result['reviews'] = result['reviews'].apply(json.dumps)\n",
    "result['helpful_votes'] = result['helpful_votes'].apply(json.dumps)\n",
    "result['verified_purchase'] = result['verified_purchase'].apply(json.dumps)\n",
    "\n",
    "# Save to CSV\n"
   ]
  },
  {
   "cell_type": "markdown",
   "metadata": {},
   "source": [
    "> :warning: **Saves a csv file!**"
   ]
  },
  {
   "cell_type": "code",
   "execution_count": 40,
   "metadata": {},
   "outputs": [],
   "source": [
    "# result.to_csv('../data/Magazine_Subscriptions/eda-magazine_subscription.csv', index=False)"
   ]
  },
  {
   "cell_type": "code",
   "execution_count": 41,
   "metadata": {},
   "outputs": [],
   "source": [
    "# # Load the CSV\n",
    "# test = pd.read_csv('../data/Magazine_Subscriptions/eda-magazine_subscription.csv')\n",
    "\n",
    "# # Deserialize JSON strings back into Python objects\n",
    "# test['reviews'] = test['reviews'].apply(json.loads)\n",
    "# test['helpful_votes'] = test['helpful_votes'].apply(json.loads)\n",
    "# test['verified_purchase'] = test['verified_purchase'].apply(json.loads)\n",
    "\n",
    "# # Verify data types\n",
    "# print(type(test.loc[0, 'reviews']))  # Should be a list of dicts\n",
    "# print(type(test.loc[0, 'helpful_votes']))  # Should be a list of ints\n",
    "# print(type(test.loc[0, 'verified_purchase']))  # Should be a list of booleans"
   ]
  },
  {
   "cell_type": "code",
   "execution_count": 42,
   "metadata": {},
   "outputs": [
    {
     "data": {
      "text/plain": [
       "asin\n",
       "B00005NIOH    1586\n",
       "B002PXVYEQ    1479\n",
       "B004GVZUUY    1381\n",
       "B002PXW1IE    1155\n",
       "B000063XJL    1068\n",
       "B001THPA58     921\n",
       "B002CT515Q     841\n",
       "B001THPA26     828\n",
       "B0089FUF6W     816\n",
       "B003N3QRF8     727\n",
       "B002PXW0EO     671\n",
       "B002PXVYQY     620\n",
       "B0032KHQTS     573\n",
       "B004GVZUUE     510\n",
       "B001THPA1C     506\n",
       "B003N3QRFI     486\n",
       "B0061SHL16     480\n",
       "B007Q4WWLI     477\n",
       "B001THPA3U     473\n",
       "B004GVZUTU     466\n",
       "Name: count, dtype: int64"
      ]
     },
     "execution_count": 42,
     "metadata": {},
     "output_type": "execute_result"
    }
   ],
   "source": [
    "top10 = value_counts.head(20)\n",
    "top10"
   ]
  },
  {
   "cell_type": "code",
   "execution_count": 43,
   "metadata": {},
   "outputs": [
    {
     "data": {
      "text/plain": [
       "asin\n",
       "B01N79IEOC    1\n",
       "B00MG6Q59Q    1\n",
       "B00007KZJ2    1\n",
       "B00006KMI6    1\n",
       "B00006KAKV    1\n",
       "B01M8NI288    1\n",
       "B001CMRTYA    1\n",
       "B002PXW0YE    1\n",
       "B00006K88Z    1\n",
       "B00007AVIC    1\n",
       "Name: count, dtype: int64"
      ]
     },
     "execution_count": 43,
     "metadata": {},
     "output_type": "execute_result"
    }
   ],
   "source": [
    "bottom10 = value_counts.tail(10)\n",
    "bottom10"
   ]
  },
  {
   "cell_type": "code",
   "execution_count": 44,
   "metadata": {},
   "outputs": [
    {
     "data": {
      "text/plain": [
       "<Axes: xlabel='asin'>"
      ]
     },
     "execution_count": 44,
     "metadata": {},
     "output_type": "execute_result"
    },
    {
     "data": {
      "image/png": "[encoded data removed]",
      "text/plain": [
       "<Figure size 432x288 with 1 Axes>"
      ]
     },
     "metadata": {
      "needs_background": "light"
     },
     "output_type": "display_data"
    }
   ],
   "source": [
    "top_n = 10 \n",
    "value_counts.head(top_n).plot(kind='bar', color='skyblue', edgecolor='black')"
   ]
  },
  {
   "cell_type": "code",
   "execution_count": 45,
   "metadata": {},
   "outputs": [
    {
     "data": {
      "text/html": [
       "<div>\n",
       "<style scoped>\n",
       "    .dataframe tbody tr th:only-of-type {\n",
       "        vertical-align: middle;\n",
       "    }\n",
       "\n",
       "    .dataframe tbody tr th {\n",
       "        vertical-align: top;\n",
       "    }\n",
       "\n",
       "    .dataframe thead th {\n",
       "        text-align: right;\n",
       "    }\n",
       "</style>\n",
       "<table border=\"1\" class=\"dataframe\">\n",
       "  <thead>\n",
       "    <tr style=\"text-align: right;\">\n",
       "      <th></th>\n",
       "      <th>rating</th>\n",
       "      <th>title</th>\n",
       "      <th>text</th>\n",
       "      <th>images</th>\n",
       "      <th>asin</th>\n",
       "      <th>parent_asin</th>\n",
       "      <th>user_id</th>\n",
       "      <th>timestamp</th>\n",
       "      <th>helpful_vote</th>\n",
       "      <th>verified_purchase</th>\n",
       "    </tr>\n",
       "  </thead>\n",
       "  <tbody>\n",
       "    <tr>\n",
       "      <th>18</th>\n",
       "      <td>2</td>\n",
       "      <td>Some Decent Content, but drowned out in Advert...</td>\n",
       "      <td>We were looking for a magazine for our 4 year ...</td>\n",
       "      <td>[]</td>\n",
       "      <td>B000063XJL</td>\n",
       "      <td>B000063XJL</td>\n",
       "      <td>AGLQQCIS5V6EGUCS5SSNHWZHQM6Q</td>\n",
       "      <td>2005-09-20 02:39:18.000</td>\n",
       "      <td>69</td>\n",
       "      <td>False</td>\n",
       "    </tr>\n",
       "    <tr>\n",
       "      <th>54</th>\n",
       "      <td>2</td>\n",
       "      <td>National Geographic Kids: Too Much Fluff, too ...</td>\n",
       "      <td>Kids like to read magazines and books as long ...</td>\n",
       "      <td>[]</td>\n",
       "      <td>B000063XJL</td>\n",
       "      <td>B000063XJL</td>\n",
       "      <td>AFERCDY2EFJKT7QUQ75GISNHTFOQ</td>\n",
       "      <td>2012-05-06 14:48:55.000</td>\n",
       "      <td>8</td>\n",
       "      <td>False</td>\n",
       "    </tr>\n",
       "    <tr>\n",
       "      <th>137</th>\n",
       "      <td>5</td>\n",
       "      <td>Nice</td>\n",
       "      <td>Son likes! He is 6 years old and sat still for...</td>\n",
       "      <td>[]</td>\n",
       "      <td>B000063XJL</td>\n",
       "      <td>B000063XJL</td>\n",
       "      <td>AFOIBDPU4QUZS2L5QEOXA7HRRXKA</td>\n",
       "      <td>2016-06-24 12:32:17.000</td>\n",
       "      <td>0</td>\n",
       "      <td>True</td>\n",
       "    </tr>\n",
       "    <tr>\n",
       "      <th>140</th>\n",
       "      <td>5</td>\n",
       "      <td>they love them so much</td>\n",
       "      <td>My kids fight over these, they love them so mu...</td>\n",
       "      <td>[]</td>\n",
       "      <td>B000063XJL</td>\n",
       "      <td>B000063XJL</td>\n",
       "      <td>AHW4LOVWIR4WOR7DN5IPIV5PCSEA</td>\n",
       "      <td>2018-07-02 15:43:43.140</td>\n",
       "      <td>0</td>\n",
       "      <td>True</td>\n",
       "    </tr>\n",
       "    <tr>\n",
       "      <th>159</th>\n",
       "      <td>1</td>\n",
       "      <td>Nat Geo should  be ashamed</td>\n",
       "      <td>My Grandkids have gotten 3 copies over a 6 mon...</td>\n",
       "      <td>[]</td>\n",
       "      <td>B000063XJL</td>\n",
       "      <td>B000063XJL</td>\n",
       "      <td>AH7UKE3JVRDLDME7ZEDCPVF7QS5Q</td>\n",
       "      <td>2020-10-02 21:34:31.276</td>\n",
       "      <td>11</td>\n",
       "      <td>True</td>\n",
       "    </tr>\n",
       "    <tr>\n",
       "      <th>...</th>\n",
       "      <td>...</td>\n",
       "      <td>...</td>\n",
       "      <td>...</td>\n",
       "      <td>...</td>\n",
       "      <td>...</td>\n",
       "      <td>...</td>\n",
       "      <td>...</td>\n",
       "      <td>...</td>\n",
       "      <td>...</td>\n",
       "      <td>...</td>\n",
       "    </tr>\n",
       "    <tr>\n",
       "      <th>71252</th>\n",
       "      <td>5</td>\n",
       "      <td>Granddaughter loves animals and your magazine</td>\n",
       "      <td>My Granddaughter loves animals and your magazi...</td>\n",
       "      <td>[]</td>\n",
       "      <td>B000063XJL</td>\n",
       "      <td>B000063XJL</td>\n",
       "      <td>AFZ4RT67Y74RQI3CYUONSIMSV5LQ</td>\n",
       "      <td>2013-02-22 06:58:39.000</td>\n",
       "      <td>1</td>\n",
       "      <td>True</td>\n",
       "    </tr>\n",
       "    <tr>\n",
       "      <th>71310</th>\n",
       "      <td>2</td>\n",
       "      <td>Ok, but lots of advertisements</td>\n",
       "      <td>I thought the photography in the magazine was ...</td>\n",
       "      <td>[]</td>\n",
       "      <td>B000063XJL</td>\n",
       "      <td>B000063XJL</td>\n",
       "      <td>AEIG45QUQ26ONU5QSLIMIGYTU6EQ</td>\n",
       "      <td>2007-11-25 11:01:01.000</td>\n",
       "      <td>8</td>\n",
       "      <td>False</td>\n",
       "    </tr>\n",
       "    <tr>\n",
       "      <th>71318</th>\n",
       "      <td>5</td>\n",
       "      <td>There are NO ads!</td>\n",
       "      <td>My granddaughter loves this magazine!  I gave ...</td>\n",
       "      <td>[]</td>\n",
       "      <td>B000063XJL</td>\n",
       "      <td>B000063XJL</td>\n",
       "      <td>AESDMXP7F42XLHASKXXEMYWBVPDA</td>\n",
       "      <td>2013-03-05 16:00:18.000</td>\n",
       "      <td>3</td>\n",
       "      <td>True</td>\n",
       "    </tr>\n",
       "    <tr>\n",
       "      <th>71411</th>\n",
       "      <td>4</td>\n",
       "      <td>ordering easy</td>\n",
       "      <td>Ordering was easy. A bit disappointed that the...</td>\n",
       "      <td>[]</td>\n",
       "      <td>B000063XJL</td>\n",
       "      <td>B000063XJL</td>\n",
       "      <td>AFUQJZQAJW6AWOSBHOSWY5OMTUJQ</td>\n",
       "      <td>2015-01-07 14:29:34.000</td>\n",
       "      <td>0</td>\n",
       "      <td>True</td>\n",
       "    </tr>\n",
       "    <tr>\n",
       "      <th>71440</th>\n",
       "      <td>1</td>\n",
       "      <td>Rip off. Subscription was not as advertised</td>\n",
       "      <td>First off I payed for a year subscription 3 mo...</td>\n",
       "      <td>[]</td>\n",
       "      <td>B000063XJL</td>\n",
       "      <td>B000063XJL</td>\n",
       "      <td>AFJM5D46DCTQX63MAUCUCC33NH4Q</td>\n",
       "      <td>2020-08-15 06:16:14.320</td>\n",
       "      <td>9</td>\n",
       "      <td>True</td>\n",
       "    </tr>\n",
       "  </tbody>\n",
       "</table>\n",
       "<p>1068 rows × 10 columns</p>\n",
       "</div>"
      ],
      "text/plain": [
       "       rating                                              title  \\\n",
       "18          2  Some Decent Content, but drowned out in Advert...   \n",
       "54          2  National Geographic Kids: Too Much Fluff, too ...   \n",
       "137         5                                               Nice   \n",
       "140         5                             they love them so much   \n",
       "159         1                         Nat Geo should  be ashamed   \n",
       "...       ...                                                ...   \n",
       "71252       5      Granddaughter loves animals and your magazine   \n",
       "71310       2                     Ok, but lots of advertisements   \n",
       "71318       5                                  There are NO ads!   \n",
       "71411       4                                      ordering easy   \n",
       "71440       1        Rip off. Subscription was not as advertised   \n",
       "\n",
       "                                                    text images        asin  \\\n",
       "18     We were looking for a magazine for our 4 year ...     []  B000063XJL   \n",
       "54     Kids like to read magazines and books as long ...     []  B000063XJL   \n",
       "137    Son likes! He is 6 years old and sat still for...     []  B000063XJL   \n",
       "140    My kids fight over these, they love them so mu...     []  B000063XJL   \n",
       "159    My Grandkids have gotten 3 copies over a 6 mon...     []  B000063XJL   \n",
       "...                                                  ...    ...         ...   \n",
       "71252  My Granddaughter loves animals and your magazi...     []  B000063XJL   \n",
       "71310  I thought the photography in the magazine was ...     []  B000063XJL   \n",
       "71318  My granddaughter loves this magazine!  I gave ...     []  B000063XJL   \n",
       "71411  Ordering was easy. A bit disappointed that the...     []  B000063XJL   \n",
       "71440  First off I payed for a year subscription 3 mo...     []  B000063XJL   \n",
       "\n",
       "      parent_asin                       user_id               timestamp  \\\n",
       "18     B000063XJL  AGLQQCIS5V6EGUCS5SSNHWZHQM6Q 2005-09-20 02:39:18.000   \n",
       "54     B000063XJL  AFERCDY2EFJKT7QUQ75GISNHTFOQ 2012-05-06 14:48:55.000   \n",
       "137    B000063XJL  AFOIBDPU4QUZS2L5QEOXA7HRRXKA 2016-06-24 12:32:17.000   \n",
       "140    B000063XJL  AHW4LOVWIR4WOR7DN5IPIV5PCSEA 2018-07-02 15:43:43.140   \n",
       "159    B000063XJL  AH7UKE3JVRDLDME7ZEDCPVF7QS5Q 2020-10-02 21:34:31.276   \n",
       "...           ...                           ...                     ...   \n",
       "71252  B000063XJL  AFZ4RT67Y74RQI3CYUONSIMSV5LQ 2013-02-22 06:58:39.000   \n",
       "71310  B000063XJL  AEIG45QUQ26ONU5QSLIMIGYTU6EQ 2007-11-25 11:01:01.000   \n",
       "71318  B000063XJL  AESDMXP7F42XLHASKXXEMYWBVPDA 2013-03-05 16:00:18.000   \n",
       "71411  B000063XJL  AFUQJZQAJW6AWOSBHOSWY5OMTUJQ 2015-01-07 14:29:34.000   \n",
       "71440  B000063XJL  AFJM5D46DCTQX63MAUCUCC33NH4Q 2020-08-15 06:16:14.320   \n",
       "\n",
       "       helpful_vote  verified_purchase  \n",
       "18               69              False  \n",
       "54                8              False  \n",
       "137               0               True  \n",
       "140               0               True  \n",
       "159              11               True  \n",
       "...             ...                ...  \n",
       "71252             1               True  \n",
       "71310             8              False  \n",
       "71318             3               True  \n",
       "71411             0               True  \n",
       "71440             9               True  \n",
       "\n",
       "[1068 rows x 10 columns]"
      ]
     },
     "execution_count": 45,
     "metadata": {},
     "output_type": "execute_result"
    }
   ],
   "source": [
    "adf[adf['asin']=='B000063XJL']"
   ]
  },
  {
   "cell_type": "code",
   "execution_count": null,
   "metadata": {},
   "outputs": [],
   "source": []
  }
 ],
 "metadata": {
  "kernelspec": {
   "display_name": "env-reviews-summarizer",
   "language": "python",
   "name": "python3"
  },
  "language_info": {
   "codemirror_mode": {
    "name": "ipython",
    "version": 3
   },
   "file_extension": ".py",
   "mimetype": "text/x-python",
   "name": "python",
   "nbconvert_exporter": "python",
   "pygments_lexer": "ipython3",
   "version": "3.8.20"
  }
 },
 "nbformat": 4,
 "nbformat_minor": 2
}
