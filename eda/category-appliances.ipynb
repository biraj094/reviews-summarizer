{
 "cells": [
  {
   "cell_type": "markdown",
   "metadata": {},
   "source": [
    "# Category > Appliances"
   ]
  },
  {
   "cell_type": "markdown",
   "metadata": {},
   "source": [
    "# \n"
   ]
  },
  {
   "cell_type": "code",
   "execution_count": 16,
   "metadata": {},
   "outputs": [],
   "source": [
    "# ! pip install pandas --quiet\n",
    "# ! pip install matplotlib --quiet"
   ]
  },
  {
   "cell_type": "code",
   "execution_count": 17,
   "metadata": {},
   "outputs": [],
   "source": [
    "import pandas as pd\n",
    "import matplotlib.pyplot as plt\n",
    "import json"
   ]
  },
  {
   "cell_type": "code",
   "execution_count": 18,
   "metadata": {},
   "outputs": [],
   "source": [
    "adf = pd.read_json('../data/Appliances/Appliances.jsonl',lines=True)"
   ]
  },
  {
   "cell_type": "code",
   "execution_count": 19,
   "metadata": {},
   "outputs": [
    {
     "data": {
      "text/plain": [
       "(2128605, 10)"
      ]
     },
     "execution_count": 19,
     "metadata": {},
     "output_type": "execute_result"
    }
   ],
   "source": [
    "adf.shape"
   ]
  },
  {
   "cell_type": "code",
   "execution_count": 20,
   "metadata": {},
   "outputs": [
    {
     "data": {
      "text/html": [
       "<div>\n",
       "<style scoped>\n",
       "    .dataframe tbody tr th:only-of-type {\n",
       "        vertical-align: middle;\n",
       "    }\n",
       "\n",
       "    .dataframe tbody tr th {\n",
       "        vertical-align: top;\n",
       "    }\n",
       "\n",
       "    .dataframe thead th {\n",
       "        text-align: right;\n",
       "    }\n",
       "</style>\n",
       "<table border=\"1\" class=\"dataframe\">\n",
       "  <thead>\n",
       "    <tr style=\"text-align: right;\">\n",
       "      <th></th>\n",
       "      <th>rating</th>\n",
       "      <th>title</th>\n",
       "      <th>text</th>\n",
       "      <th>images</th>\n",
       "      <th>asin</th>\n",
       "      <th>parent_asin</th>\n",
       "      <th>user_id</th>\n",
       "      <th>timestamp</th>\n",
       "      <th>helpful_vote</th>\n",
       "      <th>verified_purchase</th>\n",
       "    </tr>\n",
       "  </thead>\n",
       "  <tbody>\n",
       "    <tr>\n",
       "      <th>0</th>\n",
       "      <td>5</td>\n",
       "      <td>Work great</td>\n",
       "      <td>work great. use a new one every month</td>\n",
       "      <td>[]</td>\n",
       "      <td>B01N0TQ0OH</td>\n",
       "      <td>B01N0TQ0OH</td>\n",
       "      <td>AGKHLEW2SOWHNMFQIJGBECAF7INQ</td>\n",
       "      <td>2018-02-22 16:31:48.692</td>\n",
       "      <td>0</td>\n",
       "      <td>True</td>\n",
       "    </tr>\n",
       "    <tr>\n",
       "      <th>1</th>\n",
       "      <td>5</td>\n",
       "      <td>excellent product</td>\n",
       "      <td>Little on the thin side</td>\n",
       "      <td>[]</td>\n",
       "      <td>B07DD2DMXB</td>\n",
       "      <td>B07DD37QPZ</td>\n",
       "      <td>AHWWLSPCJMALVHDDVSUGICL6RUCA</td>\n",
       "      <td>2022-10-02 21:41:03.446</td>\n",
       "      <td>0</td>\n",
       "      <td>True</td>\n",
       "    </tr>\n",
       "    <tr>\n",
       "      <th>2</th>\n",
       "      <td>5</td>\n",
       "      <td>Happy customer!</td>\n",
       "      <td>Quick delivery, fixed the issue!</td>\n",
       "      <td>[]</td>\n",
       "      <td>B082W3Z9YK</td>\n",
       "      <td>B082W3Z9YK</td>\n",
       "      <td>AHZIJGKEWRTAEOZ673G5B3SNXEGQ</td>\n",
       "      <td>2020-12-06 03:30:35.363</td>\n",
       "      <td>0</td>\n",
       "      <td>True</td>\n",
       "    </tr>\n",
       "    <tr>\n",
       "      <th>3</th>\n",
       "      <td>5</td>\n",
       "      <td>Amazing value</td>\n",
       "      <td>I wasn't sure whether these were worth it or n...</td>\n",
       "      <td>[]</td>\n",
       "      <td>B078W2BJY8</td>\n",
       "      <td>B078W2BJY8</td>\n",
       "      <td>AFGUPTDFAWOHHL4LZDV27ERDNOYQ</td>\n",
       "      <td>2018-08-12 20:03:04.306</td>\n",
       "      <td>0</td>\n",
       "      <td>True</td>\n",
       "    </tr>\n",
       "    <tr>\n",
       "      <th>4</th>\n",
       "      <td>5</td>\n",
       "      <td>Dryer parts</td>\n",
       "      <td>Easy to install got the product expected to re...</td>\n",
       "      <td>[]</td>\n",
       "      <td>B08C9LPCQV</td>\n",
       "      <td>B08C9LPCQV</td>\n",
       "      <td>AELFJFAXQERUSMTXJQ6SYFFRDWMA</td>\n",
       "      <td>2021-05-05 01:03:23.754</td>\n",
       "      <td>0</td>\n",
       "      <td>True</td>\n",
       "    </tr>\n",
       "  </tbody>\n",
       "</table>\n",
       "</div>"
      ],
      "text/plain": [
       "   rating              title  \\\n",
       "0       5         Work great   \n",
       "1       5  excellent product   \n",
       "2       5    Happy customer!   \n",
       "3       5      Amazing value   \n",
       "4       5        Dryer parts   \n",
       "\n",
       "                                                text images        asin  \\\n",
       "0              work great. use a new one every month     []  B01N0TQ0OH   \n",
       "1                            Little on the thin side     []  B07DD2DMXB   \n",
       "2                   Quick delivery, fixed the issue!     []  B082W3Z9YK   \n",
       "3  I wasn't sure whether these were worth it or n...     []  B078W2BJY8   \n",
       "4  Easy to install got the product expected to re...     []  B08C9LPCQV   \n",
       "\n",
       "  parent_asin                       user_id               timestamp  \\\n",
       "0  B01N0TQ0OH  AGKHLEW2SOWHNMFQIJGBECAF7INQ 2018-02-22 16:31:48.692   \n",
       "1  B07DD37QPZ  AHWWLSPCJMALVHDDVSUGICL6RUCA 2022-10-02 21:41:03.446   \n",
       "2  B082W3Z9YK  AHZIJGKEWRTAEOZ673G5B3SNXEGQ 2020-12-06 03:30:35.363   \n",
       "3  B078W2BJY8  AFGUPTDFAWOHHL4LZDV27ERDNOYQ 2018-08-12 20:03:04.306   \n",
       "4  B08C9LPCQV  AELFJFAXQERUSMTXJQ6SYFFRDWMA 2021-05-05 01:03:23.754   \n",
       "\n",
       "   helpful_vote  verified_purchase  \n",
       "0             0               True  \n",
       "1             0               True  \n",
       "2             0               True  \n",
       "3             0               True  \n",
       "4             0               True  "
      ]
     },
     "execution_count": 20,
     "metadata": {},
     "output_type": "execute_result"
    }
   ],
   "source": [
    "adf.head()"
   ]
  },
  {
   "cell_type": "code",
   "execution_count": 21,
   "metadata": {},
   "outputs": [
    {
     "name": "stdout",
     "output_type": "stream",
     "text": [
      "Mean =  20.42081986242889\n",
      "Median =  3.0\n"
     ]
    },
    {
     "data": {
      "image/png": "[encoded data removed]",
      "text/plain": [
       "<Figure size 720x432 with 1 Axes>"
      ]
     },
     "metadata": {
      "needs_background": "light"
     },
     "output_type": "display_data"
    }
   ],
   "source": [
    "value_counts = adf['asin'].value_counts()\n",
    "print(\"Mean = \",value_counts.mean())\n",
    "print(\"Median = \",value_counts.median())\n",
    "plt.figure(figsize=(10, 6))\n",
    "plt.bar(range(len(value_counts)), value_counts, color='skyblue', edgecolor='black')\n",
    "plt.title('Distribution of ASIN', fontsize=14)\n",
    "plt.xlabel('Unique ASINs (Index)', fontsize=12)\n",
    "plt.ylabel('Frequency', fontsize=12)\n",
    "plt.tight_layout()\n",
    "plt.show()"
   ]
  },
  {
   "cell_type": "markdown",
   "metadata": {},
   "source": [
    "**Filter products with more than 500 reviews**"
   ]
  },
  {
   "cell_type": "code",
   "execution_count": 22,
   "metadata": {},
   "outputs": [
    {
     "data": {
      "text/html": [
       "<div>\n",
       "<style scoped>\n",
       "    .dataframe tbody tr th:only-of-type {\n",
       "        vertical-align: middle;\n",
       "    }\n",
       "\n",
       "    .dataframe tbody tr th {\n",
       "        vertical-align: top;\n",
       "    }\n",
       "\n",
       "    .dataframe thead th {\n",
       "        text-align: right;\n",
       "    }\n",
       "</style>\n",
       "<table border=\"1\" class=\"dataframe\">\n",
       "  <thead>\n",
       "    <tr style=\"text-align: right;\">\n",
       "      <th></th>\n",
       "      <th>rating</th>\n",
       "      <th>title</th>\n",
       "      <th>text</th>\n",
       "      <th>images</th>\n",
       "      <th>asin</th>\n",
       "      <th>parent_asin</th>\n",
       "      <th>user_id</th>\n",
       "      <th>timestamp</th>\n",
       "      <th>helpful_vote</th>\n",
       "      <th>verified_purchase</th>\n",
       "    </tr>\n",
       "  </thead>\n",
       "  <tbody>\n",
       "    <tr>\n",
       "      <th>0</th>\n",
       "      <td>5</td>\n",
       "      <td>Work great</td>\n",
       "      <td>work great. use a new one every month</td>\n",
       "      <td>[]</td>\n",
       "      <td>B01N0TQ0OH</td>\n",
       "      <td>B01N0TQ0OH</td>\n",
       "      <td>AGKHLEW2SOWHNMFQIJGBECAF7INQ</td>\n",
       "      <td>2018-02-22 16:31:48.692</td>\n",
       "      <td>0</td>\n",
       "      <td>True</td>\n",
       "    </tr>\n",
       "    <tr>\n",
       "      <th>6</th>\n",
       "      <td>2</td>\n",
       "      <td>They don't fit properly</td>\n",
       "      <td>Not the best quality</td>\n",
       "      <td>[]</td>\n",
       "      <td>B001TH7GZA</td>\n",
       "      <td>B001TH7H0O</td>\n",
       "      <td>AHCV2CNCOCG6WECDROOUYPDZIFEQ</td>\n",
       "      <td>2021-01-09 19:03:43.865</td>\n",
       "      <td>0</td>\n",
       "      <td>True</td>\n",
       "    </tr>\n",
       "    <tr>\n",
       "      <th>10</th>\n",
       "      <td>4</td>\n",
       "      <td>Easy use coffee scoop.</td>\n",
       "      <td>Love little kitchen gadgets.  Would recommend ...</td>\n",
       "      <td>[]</td>\n",
       "      <td>B01AML6LT0</td>\n",
       "      <td>B09CBF2XCF</td>\n",
       "      <td>AHPUT3ITXCHQJO7OMF74LEMYHIVA</td>\n",
       "      <td>2021-03-17 21:09:01.916</td>\n",
       "      <td>0</td>\n",
       "      <td>True</td>\n",
       "    </tr>\n",
       "    <tr>\n",
       "      <th>12</th>\n",
       "      <td>5</td>\n",
       "      <td>Perfect !!!</td>\n",
       "      <td>i have a K15 and was concerned it wouldnt fit ...</td>\n",
       "      <td>[]</td>\n",
       "      <td>B07BFGZQ65</td>\n",
       "      <td>B07BFGZQ65</td>\n",
       "      <td>AHGAOIZVODNHYMNCBV4DECZH42UQ</td>\n",
       "      <td>2018-07-02 21:18:12.904</td>\n",
       "      <td>5</td>\n",
       "      <td>True</td>\n",
       "    </tr>\n",
       "    <tr>\n",
       "      <th>15</th>\n",
       "      <td>5</td>\n",
       "      <td>great</td>\n",
       "      <td>worked great</td>\n",
       "      <td>[]</td>\n",
       "      <td>B00009W3HD</td>\n",
       "      <td>B08FDB6W59</td>\n",
       "      <td>AHGAOIZVODNHYMNCBV4DECZH42UQ</td>\n",
       "      <td>2017-12-18 00:35:34.944</td>\n",
       "      <td>0</td>\n",
       "      <td>True</td>\n",
       "    </tr>\n",
       "  </tbody>\n",
       "</table>\n",
       "</div>"
      ],
      "text/plain": [
       "    rating                    title  \\\n",
       "0        5               Work great   \n",
       "6        2  They don't fit properly   \n",
       "10       4   Easy use coffee scoop.   \n",
       "12       5              Perfect !!!   \n",
       "15       5                    great   \n",
       "\n",
       "                                                 text images        asin  \\\n",
       "0               work great. use a new one every month     []  B01N0TQ0OH   \n",
       "6                                Not the best quality     []  B001TH7GZA   \n",
       "10  Love little kitchen gadgets.  Would recommend ...     []  B01AML6LT0   \n",
       "12  i have a K15 and was concerned it wouldnt fit ...     []  B07BFGZQ65   \n",
       "15                                       worked great     []  B00009W3HD   \n",
       "\n",
       "   parent_asin                       user_id               timestamp  \\\n",
       "0   B01N0TQ0OH  AGKHLEW2SOWHNMFQIJGBECAF7INQ 2018-02-22 16:31:48.692   \n",
       "6   B001TH7H0O  AHCV2CNCOCG6WECDROOUYPDZIFEQ 2021-01-09 19:03:43.865   \n",
       "10  B09CBF2XCF  AHPUT3ITXCHQJO7OMF74LEMYHIVA 2021-03-17 21:09:01.916   \n",
       "12  B07BFGZQ65  AHGAOIZVODNHYMNCBV4DECZH42UQ 2018-07-02 21:18:12.904   \n",
       "15  B08FDB6W59  AHGAOIZVODNHYMNCBV4DECZH42UQ 2017-12-18 00:35:34.944   \n",
       "\n",
       "    helpful_vote  verified_purchase  \n",
       "0              0               True  \n",
       "6              0               True  \n",
       "10             0               True  \n",
       "12             5               True  \n",
       "15             0               True  "
      ]
     },
     "execution_count": 22,
     "metadata": {},
     "output_type": "execute_result"
    }
   ],
   "source": [
    "filtered_asins = value_counts[value_counts >= 500].index\n",
    "filtered_adf = adf[adf['asin'].isin(filtered_asins)]\n",
    "filtered_adf.head()"
   ]
  },
  {
   "cell_type": "code",
   "execution_count": 23,
   "metadata": {},
   "outputs": [],
   "source": [
    "# Group by 'asin' and apply transformations\n",
    "result = filtered_adf.groupby('asin').apply(\n",
    "    lambda group: pd.Series({\n",
    "        'reviews': [{'review_title': title, 'review_text': text} for title, text in zip(group['title'], group['text'])],\n",
    "        'total_reviews': len(group),\n",
    "        'first_review_date': group['timestamp'].min(),\n",
    "        'last_review_date': group['timestamp'].max(),\n",
    "        'helpful_votes': group['helpful_vote'].tolist(),\n",
    "        'verified_purchase': group['verified_purchase'].tolist()\n",
    "    })\n",
    ").reset_index()\n",
    "\n",
    "# Serialize complex data types to JSON strings for saving in CSV\n",
    "result['reviews'] = result['reviews'].apply(json.dumps)\n",
    "result['helpful_votes'] = result['helpful_votes'].apply(json.dumps)\n",
    "result['verified_purchase'] = result['verified_purchase'].apply(json.dumps)\n",
    "\n",
    "# Save to CSV\n"
   ]
  },
  {
   "cell_type": "markdown",
   "metadata": {},
   "source": [
    "> :warning: **Saves a csv file!**"
   ]
  },
  {
   "cell_type": "code",
   "execution_count": 28,
   "metadata": {},
   "outputs": [
    {
     "data": {
      "text/plain": [
       "(576, 7)"
      ]
     },
     "execution_count": 28,
     "metadata": {},
     "output_type": "execute_result"
    }
   ],
   "source": [
    "result.shape"
   ]
  },
  {
   "cell_type": "code",
   "execution_count": 24,
   "metadata": {},
   "outputs": [],
   "source": [
    "# result.to_csv('../data/Appliances/eda-appliances.csv', index=False)"
   ]
  },
  {
   "cell_type": "code",
   "execution_count": 26,
   "metadata": {},
   "outputs": [],
   "source": [
    "# # Load the CSV\n",
    "# test = pd.read_csv('../data/Appliances/eda-appliances.csv')\n",
    "\n",
    "# # Deserialize JSON strings back into Python objects\n",
    "# test['reviews'] = test['reviews'].apply(json.loads)\n",
    "# test['helpful_votes'] = test['helpful_votes'].apply(json.loads)\n",
    "# test['verified_purchase'] = test['verified_purchase'].apply(json.loads)\n",
    "\n",
    "# # Verify data types\n",
    "# print(type(test.loc[0, 'reviews']))  # Should be a list of dicts\n",
    "# print(type(test.loc[0, 'helpful_votes']))  # Should be a list of ints\n",
    "# print(type(test.loc[0, 'verified_purchase']))  # Should be a list of booleans"
   ]
  },
  {
   "cell_type": "code",
   "execution_count": 27,
   "metadata": {},
   "outputs": [
    {
     "data": {
      "text/plain": [
       "asin\n",
       "B01DLEL4EM    8848\n",
       "B000AST3AK    7030\n",
       "B00LGEKOMS    6984\n",
       "B01KJ2FVFW    6140\n",
       "B00UXG4WR8    5896\n",
       "B000DLB2FI    5736\n",
       "B01MT0UL8N    5345\n",
       "B01BIDPHYQ    5299\n",
       "B0045LLC7K    5243\n",
       "B003N1ZSYG    5132\n",
       "B002JAKRAM    5042\n",
       "B01DP1IWKU    4903\n",
       "B014W1C2VM    4873\n",
       "B01ALBMIEI    4251\n",
       "B07YF9SGBW    4236\n",
       "B01CA34OU6    4162\n",
       "B009PCI2JU    4078\n",
       "B01KKUFW34    3992\n",
       "B06XR8WZX6    3598\n",
       "B01KJUC2JC    3532\n",
       "Name: count, dtype: int64"
      ]
     },
     "execution_count": 27,
     "metadata": {},
     "output_type": "execute_result"
    }
   ],
   "source": [
    "top10 = value_counts.head(20)\n",
    "top10"
   ]
  },
  {
   "cell_type": "code",
   "execution_count": null,
   "metadata": {},
   "outputs": [],
   "source": [
    "bottom10 = value_counts.tail(10)\n",
    "bottom10"
   ]
  },
  {
   "cell_type": "code",
   "execution_count": null,
   "metadata": {},
   "outputs": [],
   "source": [
    "top_n = 10 \n",
    "value_counts.head(top_n).plot(kind='bar', color='skyblue', edgecolor='black')"
   ]
  },
  {
   "cell_type": "code",
   "execution_count": null,
   "metadata": {},
   "outputs": [],
   "source": [
    "adf[adf['asin']=='B000063XJL']"
   ]
  },
  {
   "cell_type": "code",
   "execution_count": null,
   "metadata": {},
   "outputs": [],
   "source": []
  }
 ],
 "metadata": {
  "kernelspec": {
   "display_name": "env-reviews-summarizer",
   "language": "python",
   "name": "python3"
  },
  "language_info": {
   "codemirror_mode": {
    "name": "ipython",
    "version": 3
   },
   "file_extension": ".py",
   "mimetype": "text/x-python",
   "name": "python",
   "nbconvert_exporter": "python",
   "pygments_lexer": "ipython3",
   "version": "3.8.20"
  }
 },
 "nbformat": 4,
 "nbformat_minor": 2
}
